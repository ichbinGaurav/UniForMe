{
 "cells": [
  {
   "cell_type": "code",
   "execution_count": 1,
   "metadata": {},
   "outputs": [],
   "source": [
    "import pandas as pd\n",
    "import numpy as np "
   ]
  },
  {
   "cell_type": "code",
   "execution_count": 2,
   "metadata": {},
   "outputs": [],
   "source": [
    "import json "
   ]
  },
  {
   "cell_type": "code",
   "execution_count": 3,
   "metadata": {},
   "outputs": [],
   "source": [
    "\n",
    "json_path = '../datasets/program_details.json'\n",
    "\n",
    "# Open the file and check its content\n",
    "with open(json_path, 'r') as file:\n",
    "    program_details = json.load(file)\n",
    "\n",
    "# Filter out None or invalid entries\n",
    "valid_program_details = [\n",
    "    entry for entry in program_details if entry is not None and isinstance(entry, dict)\n",
    "]\n",
    "\n",
    "# Convert to pandas DataFrame\n",
    "pdf = pd.DataFrame(valid_program_details)\n",
    "\n",
    "\n"
   ]
  },
  {
   "cell_type": "code",
   "execution_count": 4,
   "metadata": {},
   "outputs": [
    {
     "data": {
      "text/html": [
       "<div>\n",
       "<style scoped>\n",
       "    .dataframe tbody tr th:only-of-type {\n",
       "        vertical-align: middle;\n",
       "    }\n",
       "\n",
       "    .dataframe tbody tr th {\n",
       "        vertical-align: top;\n",
       "    }\n",
       "\n",
       "    .dataframe thead th {\n",
       "        text-align: right;\n",
       "    }\n",
       "</style>\n",
       "<table border=\"1\" class=\"dataframe\">\n",
       "  <thead>\n",
       "    <tr style=\"text-align: right;\">\n",
       "      <th></th>\n",
       "      <th>id</th>\n",
       "      <th>Description/content</th>\n",
       "      <th>Course Organisation</th>\n",
       "    </tr>\n",
       "  </thead>\n",
       "  <tbody>\n",
       "    <tr>\n",
       "      <th>0</th>\n",
       "      <td>8305</td>\n",
       "      <td>The Master's in Computer Science offers a comp...</td>\n",
       "      <td>In the Master's programme, the schedule can be...</td>\n",
       "    </tr>\n",
       "    <tr>\n",
       "      <th>1</th>\n",
       "      <td>4439</td>\n",
       "      <td>Combining the breadth of a traditional course ...</td>\n",
       "      <td>In the first semester, the module theoretical ...</td>\n",
       "    </tr>\n",
       "    <tr>\n",
       "      <th>2</th>\n",
       "      <td>4870</td>\n",
       "      <td>The Master's in Applied Computer Science progr...</td>\n",
       "      <td>Three semesters:Semesters one and two: theory ...</td>\n",
       "    </tr>\n",
       "    <tr>\n",
       "      <th>3</th>\n",
       "      <td>5616</td>\n",
       "      <td>Based on their undergraduate experience the st...</td>\n",
       "      <td>The programme is organised in modules, with an...</td>\n",
       "    </tr>\n",
       "    <tr>\n",
       "      <th>4</th>\n",
       "      <td>4455</td>\n",
       "      <td>Computer Science is one of the drivers of tech...</td>\n",
       "      <td>You will choose modules from the following fiv...</td>\n",
       "    </tr>\n",
       "    <tr>\n",
       "      <th>...</th>\n",
       "      <td>...</td>\n",
       "      <td>...</td>\n",
       "      <td>...</td>\n",
       "    </tr>\n",
       "    <tr>\n",
       "      <th>134</th>\n",
       "      <td>6262</td>\n",
       "      <td>The MSc Cognitive Systems programme is a two-y...</td>\n",
       "      <td>The study programme starts off with lectures t...</td>\n",
       "    </tr>\n",
       "    <tr>\n",
       "      <th>135</th>\n",
       "      <td>4407</td>\n",
       "      <td>Medical technology is one of the main research...</td>\n",
       "      <td>Besides compulsory and elective modules with a...</td>\n",
       "    </tr>\n",
       "    <tr>\n",
       "      <th>136</th>\n",
       "      <td>9595</td>\n",
       "      <td>New digital technologies provide companies wit...</td>\n",
       "      <td>The MSc in Information Engineering programme c...</td>\n",
       "    </tr>\n",
       "    <tr>\n",
       "      <th>137</th>\n",
       "      <td>3724</td>\n",
       "      <td>Environmental information technologies such as...</td>\n",
       "      <td>The first semester takes place at the Eberswal...</td>\n",
       "    </tr>\n",
       "    <tr>\n",
       "      <th>138</th>\n",
       "      <td>6981</td>\n",
       "      <td>Our programme in Satellite Technology, chosen ...</td>\n",
       "      <td>The programme reflects the three phases of spa...</td>\n",
       "    </tr>\n",
       "  </tbody>\n",
       "</table>\n",
       "<p>139 rows × 3 columns</p>\n",
       "</div>"
      ],
      "text/plain": [
       "       id                                Description/content  \\\n",
       "0    8305  The Master's in Computer Science offers a comp...   \n",
       "1    4439  Combining the breadth of a traditional course ...   \n",
       "2    4870  The Master's in Applied Computer Science progr...   \n",
       "3    5616  Based on their undergraduate experience the st...   \n",
       "4    4455  Computer Science is one of the drivers of tech...   \n",
       "..    ...                                                ...   \n",
       "134  6262  The MSc Cognitive Systems programme is a two-y...   \n",
       "135  4407  Medical technology is one of the main research...   \n",
       "136  9595  New digital technologies provide companies wit...   \n",
       "137  3724  Environmental information technologies such as...   \n",
       "138  6981  Our programme in Satellite Technology, chosen ...   \n",
       "\n",
       "                                   Course Organisation  \n",
       "0    In the Master's programme, the schedule can be...  \n",
       "1    In the first semester, the module theoretical ...  \n",
       "2    Three semesters:Semesters one and two: theory ...  \n",
       "3    The programme is organised in modules, with an...  \n",
       "4    You will choose modules from the following fiv...  \n",
       "..                                                 ...  \n",
       "134  The study programme starts off with lectures t...  \n",
       "135  Besides compulsory and elective modules with a...  \n",
       "136  The MSc in Information Engineering programme c...  \n",
       "137  The first semester takes place at the Eberswal...  \n",
       "138  The programme reflects the three phases of spa...  \n",
       "\n",
       "[139 rows x 3 columns]"
      ]
     },
     "execution_count": 4,
     "metadata": {},
     "output_type": "execute_result"
    }
   ],
   "source": [
    "pdf"
   ]
  },
  {
   "cell_type": "code",
   "execution_count": 5,
   "metadata": {},
   "outputs": [
    {
     "data": {
      "text/plain": [
       "id                     0\n",
       "Description/content    0\n",
       "Course Organisation    0\n",
       "dtype: int64"
      ]
     },
     "execution_count": 5,
     "metadata": {},
     "output_type": "execute_result"
    }
   ],
   "source": [
    "pdf.isnull().sum()"
   ]
  },
  {
   "cell_type": "code",
   "execution_count": 6,
   "metadata": {},
   "outputs": [
    {
     "data": {
      "text/plain": [
       "np.int64(0)"
      ]
     },
     "execution_count": 6,
     "metadata": {},
     "output_type": "execute_result"
    }
   ],
   "source": [
    "pdf.duplicated().sum()"
   ]
  },
  {
   "cell_type": "markdown",
   "metadata": {},
   "source": [
    "# Merge both \n"
   ]
  },
  {
   "cell_type": "code",
   "execution_count": 7,
   "metadata": {},
   "outputs": [],
   "source": [
    "pdf['tags'] = pdf['Course Organisation'] + pdf['Description/content']"
   ]
  },
  {
   "cell_type": "code",
   "execution_count": 8,
   "metadata": {},
   "outputs": [
    {
     "data": {
      "text/html": [
       "<div>\n",
       "<style scoped>\n",
       "    .dataframe tbody tr th:only-of-type {\n",
       "        vertical-align: middle;\n",
       "    }\n",
       "\n",
       "    .dataframe tbody tr th {\n",
       "        vertical-align: top;\n",
       "    }\n",
       "\n",
       "    .dataframe thead th {\n",
       "        text-align: right;\n",
       "    }\n",
       "</style>\n",
       "<table border=\"1\" class=\"dataframe\">\n",
       "  <thead>\n",
       "    <tr style=\"text-align: right;\">\n",
       "      <th></th>\n",
       "      <th>id</th>\n",
       "      <th>Description/content</th>\n",
       "      <th>Course Organisation</th>\n",
       "      <th>tags</th>\n",
       "    </tr>\n",
       "  </thead>\n",
       "  <tbody>\n",
       "    <tr>\n",
       "      <th>0</th>\n",
       "      <td>8305</td>\n",
       "      <td>The Master's in Computer Science offers a comp...</td>\n",
       "      <td>In the Master's programme, the schedule can be...</td>\n",
       "      <td>In the Master's programme, the schedule can be...</td>\n",
       "    </tr>\n",
       "    <tr>\n",
       "      <th>1</th>\n",
       "      <td>4439</td>\n",
       "      <td>Combining the breadth of a traditional course ...</td>\n",
       "      <td>In the first semester, the module theoretical ...</td>\n",
       "      <td>In the first semester, the module theoretical ...</td>\n",
       "    </tr>\n",
       "    <tr>\n",
       "      <th>2</th>\n",
       "      <td>4870</td>\n",
       "      <td>The Master's in Applied Computer Science progr...</td>\n",
       "      <td>Three semesters:Semesters one and two: theory ...</td>\n",
       "      <td>Three semesters:Semesters one and two: theory ...</td>\n",
       "    </tr>\n",
       "    <tr>\n",
       "      <th>3</th>\n",
       "      <td>5616</td>\n",
       "      <td>Based on their undergraduate experience the st...</td>\n",
       "      <td>The programme is organised in modules, with an...</td>\n",
       "      <td>The programme is organised in modules, with an...</td>\n",
       "    </tr>\n",
       "    <tr>\n",
       "      <th>4</th>\n",
       "      <td>4455</td>\n",
       "      <td>Computer Science is one of the drivers of tech...</td>\n",
       "      <td>You will choose modules from the following fiv...</td>\n",
       "      <td>You will choose modules from the following fiv...</td>\n",
       "    </tr>\n",
       "  </tbody>\n",
       "</table>\n",
       "</div>"
      ],
      "text/plain": [
       "     id                                Description/content  \\\n",
       "0  8305  The Master's in Computer Science offers a comp...   \n",
       "1  4439  Combining the breadth of a traditional course ...   \n",
       "2  4870  The Master's in Applied Computer Science progr...   \n",
       "3  5616  Based on their undergraduate experience the st...   \n",
       "4  4455  Computer Science is one of the drivers of tech...   \n",
       "\n",
       "                                 Course Organisation  \\\n",
       "0  In the Master's programme, the schedule can be...   \n",
       "1  In the first semester, the module theoretical ...   \n",
       "2  Three semesters:Semesters one and two: theory ...   \n",
       "3  The programme is organised in modules, with an...   \n",
       "4  You will choose modules from the following fiv...   \n",
       "\n",
       "                                                tags  \n",
       "0  In the Master's programme, the schedule can be...  \n",
       "1  In the first semester, the module theoretical ...  \n",
       "2  Three semesters:Semesters one and two: theory ...  \n",
       "3  The programme is organised in modules, with an...  \n",
       "4  You will choose modules from the following fiv...  "
      ]
     },
     "execution_count": 8,
     "metadata": {},
     "output_type": "execute_result"
    }
   ],
   "source": [
    "pdf.head()"
   ]
  },
  {
   "cell_type": "code",
   "execution_count": 9,
   "metadata": {},
   "outputs": [
    {
     "data": {
      "text/plain": [
       "'In the Master\\'s programme, the schedule can be arranged flexibly. Students individually choose their areas of specialisation from a wide variety of subjects.Mandatory Modules:Computer ScienceComputer Science LabResearch Methods & EthicsCritical Reading and DiscussionElective Modules: Professional SkillsChoose from:Design ThinkingEntrepreneurship and InnovationLaw and ComplianceManagement and LeadershipTechnology Communication and TransferFocus AreasData and AIAlgorithms and FoundationsSystemsDigital HealthSecurity EngineeringOpen TrackMaster\\'s thesisThe Master\\'s in Computer Science offers a comprehensive and challenging education. The course content is tailor-made for students who want to take their IT expertise to a new level.Students can choose from six different tracks. This\\xa0track structure allows our students to discover the diversity of computer science while specialising in the area that excites them the most. The tracks are based on our interdisciplinary research clusters:Algorithms and FoundationsData and AIDigital HealthSecurity EngineeringSystemsIn the \"Open Track\", modules from all areas can be taken, so that Computer Science can also be studied without specialisation.In addition, special emphasis is placed on improving methodological skills at the research level. Through compulsory modules such as \"Research Methods & Ethics\" and \"Critical Reading & Discussion,\" students learn to understand and implement ethical problems in the context of scientific activities.Students at the Hasso Plattner Institute are also challenged and supported personally. Our curriculum integrates elective modules from the area of professional skills, which include courses in design thinking, entrepreneurship, and management.Graduates are equipped with comprehensive IT expertise in technical and interdisciplinary skills.'"
      ]
     },
     "execution_count": 9,
     "metadata": {},
     "output_type": "execute_result"
    }
   ],
   "source": [
    "pdf['tags'][0]"
   ]
  },
  {
   "cell_type": "code",
   "execution_count": 10,
   "metadata": {},
   "outputs": [],
   "source": [
    "df = pd.read_csv(\"../datasets/MergedData.csv\")\n",
    "df\n",
    "df.rename(columns={'Id':'id'}, inplace=True)"
   ]
  },
  {
   "cell_type": "code",
   "execution_count": 11,
   "metadata": {},
   "outputs": [],
   "source": [
    "final_df = pd.merge(pdf,df, on = 'id')"
   ]
  },
  {
   "cell_type": "code",
   "execution_count": 12,
   "metadata": {},
   "outputs": [
    {
     "data": {
      "text/html": [
       "<div>\n",
       "<style scoped>\n",
       "    .dataframe tbody tr th:only-of-type {\n",
       "        vertical-align: middle;\n",
       "    }\n",
       "\n",
       "    .dataframe tbody tr th {\n",
       "        vertical-align: top;\n",
       "    }\n",
       "\n",
       "    .dataframe thead th {\n",
       "        text-align: right;\n",
       "    }\n",
       "</style>\n",
       "<table border=\"1\" class=\"dataframe\">\n",
       "  <thead>\n",
       "    <tr style=\"text-align: right;\">\n",
       "      <th></th>\n",
       "      <th>id</th>\n",
       "      <th>Description/content</th>\n",
       "      <th>Course Organisation</th>\n",
       "      <th>tags</th>\n",
       "      <th>CourseNameShort</th>\n",
       "      <th>Academy</th>\n",
       "      <th>City</th>\n",
       "      <th>Languages</th>\n",
       "      <th>ProgrammeDuration</th>\n",
       "      <th>TuitionFees</th>\n",
       "      <th>...</th>\n",
       "      <th>SupportInternationalStudents</th>\n",
       "      <th>Subject</th>\n",
       "      <th>TypeOfElearning</th>\n",
       "      <th>From</th>\n",
       "      <th>To</th>\n",
       "      <th>Time</th>\n",
       "      <th>Frequency</th>\n",
       "      <th>Distance (km)</th>\n",
       "      <th>city2</th>\n",
       "      <th>Jobs in City</th>\n",
       "    </tr>\n",
       "  </thead>\n",
       "  <tbody>\n",
       "    <tr>\n",
       "      <th>0</th>\n",
       "      <td>8305</td>\n",
       "      <td>The Master's in Computer Science offers a comp...</td>\n",
       "      <td>In the Master's programme, the schedule can be...</td>\n",
       "      <td>In the Master's programme, the schedule can be...</td>\n",
       "      <td>Computer Science</td>\n",
       "      <td>University Of Potsdam</td>\n",
       "      <td>potsdam</td>\n",
       "      <td>English</td>\n",
       "      <td>4 Semesters</td>\n",
       "      <td>NaN</td>\n",
       "      <td>...</td>\n",
       "      <td>Welcome Event | Buddy Programme | Tutors | Acc...</td>\n",
       "      <td>Computer Science</td>\n",
       "      <td>NaN</td>\n",
       "      <td>potsdam</td>\n",
       "      <td>Berlin</td>\n",
       "      <td>22–26</td>\n",
       "      <td>2–3</td>\n",
       "      <td>26.14</td>\n",
       "      <td>potsdam</td>\n",
       "      <td>62.0</td>\n",
       "    </tr>\n",
       "    <tr>\n",
       "      <th>1</th>\n",
       "      <td>8305</td>\n",
       "      <td>The Master's in Computer Science offers a comp...</td>\n",
       "      <td>In the Master's programme, the schedule can be...</td>\n",
       "      <td>In the Master's programme, the schedule can be...</td>\n",
       "      <td>Computer Science</td>\n",
       "      <td>University Of Potsdam</td>\n",
       "      <td>potsdam</td>\n",
       "      <td>English</td>\n",
       "      <td>4 Semesters</td>\n",
       "      <td>NaN</td>\n",
       "      <td>...</td>\n",
       "      <td>Welcome Event | Buddy Programme | Tutors | Acc...</td>\n",
       "      <td>Computer Science</td>\n",
       "      <td>NaN</td>\n",
       "      <td>potsdam</td>\n",
       "      <td>Wildau</td>\n",
       "      <td>55–65</td>\n",
       "      <td>1</td>\n",
       "      <td>40.21</td>\n",
       "      <td>potsdam</td>\n",
       "      <td>62.0</td>\n",
       "    </tr>\n",
       "    <tr>\n",
       "      <th>2</th>\n",
       "      <td>8305</td>\n",
       "      <td>The Master's in Computer Science offers a comp...</td>\n",
       "      <td>In the Master's programme, the schedule can be...</td>\n",
       "      <td>In the Master's programme, the schedule can be...</td>\n",
       "      <td>Computer Science</td>\n",
       "      <td>University Of Potsdam</td>\n",
       "      <td>potsdam</td>\n",
       "      <td>English</td>\n",
       "      <td>4 Semesters</td>\n",
       "      <td>NaN</td>\n",
       "      <td>...</td>\n",
       "      <td>Welcome Event | Buddy Programme | Tutors | Acc...</td>\n",
       "      <td>Computer Science</td>\n",
       "      <td>NaN</td>\n",
       "      <td>potsdam</td>\n",
       "      <td>Bergholz-Rehbrücke</td>\n",
       "      <td>5–7</td>\n",
       "      <td>2</td>\n",
       "      <td>7.05</td>\n",
       "      <td>potsdam</td>\n",
       "      <td>62.0</td>\n",
       "    </tr>\n",
       "    <tr>\n",
       "      <th>3</th>\n",
       "      <td>4439</td>\n",
       "      <td>Combining the breadth of a traditional course ...</td>\n",
       "      <td>In the first semester, the module theoretical ...</td>\n",
       "      <td>In the first semester, the module theoretical ...</td>\n",
       "      <td>Computer Science</td>\n",
       "      <td>University Of Stuttgart</td>\n",
       "      <td>stuttgart</td>\n",
       "      <td>English</td>\n",
       "      <td>4 Semesters</td>\n",
       "      <td>Varied</td>\n",
       "      <td>...</td>\n",
       "      <td>Welcome Event | Buddy Programme | Tutors | Acc...</td>\n",
       "      <td>Computer Science</td>\n",
       "      <td>1,5,9,10,11,13</td>\n",
       "      <td>stuttgart</td>\n",
       "      <td>Tübingen</td>\n",
       "      <td>43–55</td>\n",
       "      <td>3</td>\n",
       "      <td>30.18</td>\n",
       "      <td>stuttgart</td>\n",
       "      <td>723.0</td>\n",
       "    </tr>\n",
       "    <tr>\n",
       "      <th>4</th>\n",
       "      <td>4439</td>\n",
       "      <td>Combining the breadth of a traditional course ...</td>\n",
       "      <td>In the first semester, the module theoretical ...</td>\n",
       "      <td>In the first semester, the module theoretical ...</td>\n",
       "      <td>Computer Science</td>\n",
       "      <td>University Of Stuttgart</td>\n",
       "      <td>stuttgart</td>\n",
       "      <td>English</td>\n",
       "      <td>4 Semesters</td>\n",
       "      <td>Varied</td>\n",
       "      <td>...</td>\n",
       "      <td>Welcome Event | Buddy Programme | Tutors | Acc...</td>\n",
       "      <td>Computer Science</td>\n",
       "      <td>1,5,9,10,11,13</td>\n",
       "      <td>stuttgart</td>\n",
       "      <td>Heilbronn</td>\n",
       "      <td>34–42</td>\n",
       "      <td>2</td>\n",
       "      <td>40.56</td>\n",
       "      <td>stuttgart</td>\n",
       "      <td>723.0</td>\n",
       "    </tr>\n",
       "    <tr>\n",
       "      <th>...</th>\n",
       "      <td>...</td>\n",
       "      <td>...</td>\n",
       "      <td>...</td>\n",
       "      <td>...</td>\n",
       "      <td>...</td>\n",
       "      <td>...</td>\n",
       "      <td>...</td>\n",
       "      <td>...</td>\n",
       "      <td>...</td>\n",
       "      <td>...</td>\n",
       "      <td>...</td>\n",
       "      <td>...</td>\n",
       "      <td>...</td>\n",
       "      <td>...</td>\n",
       "      <td>...</td>\n",
       "      <td>...</td>\n",
       "      <td>...</td>\n",
       "      <td>...</td>\n",
       "      <td>...</td>\n",
       "      <td>...</td>\n",
       "      <td>...</td>\n",
       "    </tr>\n",
       "    <tr>\n",
       "      <th>627</th>\n",
       "      <td>9595</td>\n",
       "      <td>New digital technologies provide companies wit...</td>\n",
       "      <td>The MSc in Information Engineering programme c...</td>\n",
       "      <td>The MSc in Information Engineering programme c...</td>\n",
       "      <td>Information Engineering</td>\n",
       "      <td>Technical University Of Munich</td>\n",
       "      <td>heilbronn</td>\n",
       "      <td>English</td>\n",
       "      <td>4 Semesters</td>\n",
       "      <td>NaN</td>\n",
       "      <td>...</td>\n",
       "      <td>Null</td>\n",
       "      <td>Computer Science</td>\n",
       "      <td>NaN</td>\n",
       "      <td>heilbronn</td>\n",
       "      <td>Pforzheim</td>\n",
       "      <td>75–90</td>\n",
       "      <td>1</td>\n",
       "      <td>46.95</td>\n",
       "      <td>heilbronn</td>\n",
       "      <td>171.0</td>\n",
       "    </tr>\n",
       "    <tr>\n",
       "      <th>628</th>\n",
       "      <td>9595</td>\n",
       "      <td>New digital technologies provide companies wit...</td>\n",
       "      <td>The MSc in Information Engineering programme c...</td>\n",
       "      <td>The MSc in Information Engineering programme c...</td>\n",
       "      <td>Information Engineering</td>\n",
       "      <td>Technical University Of Munich</td>\n",
       "      <td>heilbronn</td>\n",
       "      <td>English</td>\n",
       "      <td>4 Semesters</td>\n",
       "      <td>NaN</td>\n",
       "      <td>...</td>\n",
       "      <td>Null</td>\n",
       "      <td>Computer Science</td>\n",
       "      <td>NaN</td>\n",
       "      <td>heilbronn</td>\n",
       "      <td>Esslingen am Neckar</td>\n",
       "      <td>50–60</td>\n",
       "      <td>1</td>\n",
       "      <td>44.90</td>\n",
       "      <td>heilbronn</td>\n",
       "      <td>171.0</td>\n",
       "    </tr>\n",
       "    <tr>\n",
       "      <th>629</th>\n",
       "      <td>3724</td>\n",
       "      <td>Environmental information technologies such as...</td>\n",
       "      <td>The first semester takes place at the Eberswal...</td>\n",
       "      <td>The first semester takes place at the Eberswal...</td>\n",
       "      <td>Forest Information Technology (FIT)</td>\n",
       "      <td>Eberswalde University For Sustainable Development</td>\n",
       "      <td>eberswalde</td>\n",
       "      <td>English</td>\n",
       "      <td>4 Semesters</td>\n",
       "      <td>NaN</td>\n",
       "      <td>...</td>\n",
       "      <td>Welcome Event | Buddy Programme</td>\n",
       "      <td>Computer Science</td>\n",
       "      <td>1,9,11,3,4,10</td>\n",
       "      <td>eberswalde</td>\n",
       "      <td>Berlin</td>\n",
       "      <td>34</td>\n",
       "      <td>1</td>\n",
       "      <td>45.12</td>\n",
       "      <td>eberswalde</td>\n",
       "      <td>0.0</td>\n",
       "    </tr>\n",
       "    <tr>\n",
       "      <th>630</th>\n",
       "      <td>3724</td>\n",
       "      <td>Environmental information technologies such as...</td>\n",
       "      <td>The first semester takes place at the Eberswal...</td>\n",
       "      <td>The first semester takes place at the Eberswal...</td>\n",
       "      <td>Forest Information Technology (FIT)</td>\n",
       "      <td>Eberswalde University For Sustainable Development</td>\n",
       "      <td>eberswalde</td>\n",
       "      <td>English</td>\n",
       "      <td>4 Semesters</td>\n",
       "      <td>NaN</td>\n",
       "      <td>...</td>\n",
       "      <td>Welcome Event | Buddy Programme</td>\n",
       "      <td>Computer Science</td>\n",
       "      <td>1,9,11,3,4,10</td>\n",
       "      <td>eberswalde</td>\n",
       "      <td>Wildau¹</td>\n",
       "      <td>90–100</td>\n",
       "      <td>1</td>\n",
       "      <td>58.24</td>\n",
       "      <td>eberswalde</td>\n",
       "      <td>0.0</td>\n",
       "    </tr>\n",
       "    <tr>\n",
       "      <th>631</th>\n",
       "      <td>6981</td>\n",
       "      <td>Our programme in Satellite Technology, chosen ...</td>\n",
       "      <td>The programme reflects the three phases of spa...</td>\n",
       "      <td>The programme reflects the three phases of spa...</td>\n",
       "      <td>Satellite Technology (SaTec)</td>\n",
       "      <td>Julius-Maximilians-Universität Würzburg</td>\n",
       "      <td>würzburg</td>\n",
       "      <td>English</td>\n",
       "      <td>4 Semesters</td>\n",
       "      <td>NaN</td>\n",
       "      <td>...</td>\n",
       "      <td>Welcome Event | Tutors | Visa Matters | Pick-U...</td>\n",
       "      <td>Computer Science</td>\n",
       "      <td>NaN</td>\n",
       "      <td>würzburg</td>\n",
       "      <td>Schweinfurt</td>\n",
       "      <td>22–26</td>\n",
       "      <td>2</td>\n",
       "      <td>36.44</td>\n",
       "      <td>würzburg</td>\n",
       "      <td>62.0</td>\n",
       "    </tr>\n",
       "  </tbody>\n",
       "</table>\n",
       "<p>632 rows × 23 columns</p>\n",
       "</div>"
      ],
      "text/plain": [
       "       id                                Description/content  \\\n",
       "0    8305  The Master's in Computer Science offers a comp...   \n",
       "1    8305  The Master's in Computer Science offers a comp...   \n",
       "2    8305  The Master's in Computer Science offers a comp...   \n",
       "3    4439  Combining the breadth of a traditional course ...   \n",
       "4    4439  Combining the breadth of a traditional course ...   \n",
       "..    ...                                                ...   \n",
       "627  9595  New digital technologies provide companies wit...   \n",
       "628  9595  New digital technologies provide companies wit...   \n",
       "629  3724  Environmental information technologies such as...   \n",
       "630  3724  Environmental information technologies such as...   \n",
       "631  6981  Our programme in Satellite Technology, chosen ...   \n",
       "\n",
       "                                   Course Organisation  \\\n",
       "0    In the Master's programme, the schedule can be...   \n",
       "1    In the Master's programme, the schedule can be...   \n",
       "2    In the Master's programme, the schedule can be...   \n",
       "3    In the first semester, the module theoretical ...   \n",
       "4    In the first semester, the module theoretical ...   \n",
       "..                                                 ...   \n",
       "627  The MSc in Information Engineering programme c...   \n",
       "628  The MSc in Information Engineering programme c...   \n",
       "629  The first semester takes place at the Eberswal...   \n",
       "630  The first semester takes place at the Eberswal...   \n",
       "631  The programme reflects the three phases of spa...   \n",
       "\n",
       "                                                  tags  \\\n",
       "0    In the Master's programme, the schedule can be...   \n",
       "1    In the Master's programme, the schedule can be...   \n",
       "2    In the Master's programme, the schedule can be...   \n",
       "3    In the first semester, the module theoretical ...   \n",
       "4    In the first semester, the module theoretical ...   \n",
       "..                                                 ...   \n",
       "627  The MSc in Information Engineering programme c...   \n",
       "628  The MSc in Information Engineering programme c...   \n",
       "629  The first semester takes place at the Eberswal...   \n",
       "630  The first semester takes place at the Eberswal...   \n",
       "631  The programme reflects the three phases of spa...   \n",
       "\n",
       "                         CourseNameShort  \\\n",
       "0                       Computer Science   \n",
       "1                       Computer Science   \n",
       "2                       Computer Science   \n",
       "3                       Computer Science   \n",
       "4                       Computer Science   \n",
       "..                                   ...   \n",
       "627              Information Engineering   \n",
       "628              Information Engineering   \n",
       "629  Forest Information Technology (FIT)   \n",
       "630  Forest Information Technology (FIT)   \n",
       "631         Satellite Technology (SaTec)   \n",
       "\n",
       "                                               Academy        City Languages  \\\n",
       "0                                University Of Potsdam     potsdam   English   \n",
       "1                                University Of Potsdam     potsdam   English   \n",
       "2                                University Of Potsdam     potsdam   English   \n",
       "3                              University Of Stuttgart   stuttgart   English   \n",
       "4                              University Of Stuttgart   stuttgart   English   \n",
       "..                                                 ...         ...       ...   \n",
       "627                     Technical University Of Munich   heilbronn   English   \n",
       "628                     Technical University Of Munich   heilbronn   English   \n",
       "629  Eberswalde University For Sustainable Development  eberswalde   English   \n",
       "630  Eberswalde University For Sustainable Development  eberswalde   English   \n",
       "631            Julius-Maximilians-Universität Würzburg    würzburg   English   \n",
       "\n",
       "    ProgrammeDuration TuitionFees  ...  \\\n",
       "0         4 Semesters         NaN  ...   \n",
       "1         4 Semesters         NaN  ...   \n",
       "2         4 Semesters         NaN  ...   \n",
       "3         4 Semesters      Varied  ...   \n",
       "4         4 Semesters      Varied  ...   \n",
       "..                ...         ...  ...   \n",
       "627       4 Semesters         NaN  ...   \n",
       "628       4 Semesters         NaN  ...   \n",
       "629       4 Semesters         NaN  ...   \n",
       "630       4 Semesters         NaN  ...   \n",
       "631       4 Semesters         NaN  ...   \n",
       "\n",
       "                          SupportInternationalStudents           Subject  \\\n",
       "0    Welcome Event | Buddy Programme | Tutors | Acc...  Computer Science   \n",
       "1    Welcome Event | Buddy Programme | Tutors | Acc...  Computer Science   \n",
       "2    Welcome Event | Buddy Programme | Tutors | Acc...  Computer Science   \n",
       "3    Welcome Event | Buddy Programme | Tutors | Acc...  Computer Science   \n",
       "4    Welcome Event | Buddy Programme | Tutors | Acc...  Computer Science   \n",
       "..                                                 ...               ...   \n",
       "627                                               Null  Computer Science   \n",
       "628                                               Null  Computer Science   \n",
       "629                    Welcome Event | Buddy Programme  Computer Science   \n",
       "630                    Welcome Event | Buddy Programme  Computer Science   \n",
       "631  Welcome Event | Tutors | Visa Matters | Pick-U...  Computer Science   \n",
       "\n",
       "    TypeOfElearning        From                   To   Time  Frequency   \\\n",
       "0               NaN     potsdam               Berlin   22–26        2–3   \n",
       "1               NaN     potsdam               Wildau   55–65          1   \n",
       "2               NaN     potsdam   Bergholz-Rehbrücke     5–7          2   \n",
       "3    1,5,9,10,11,13   stuttgart             Tübingen   43–55          3   \n",
       "4    1,5,9,10,11,13   stuttgart            Heilbronn   34–42          2   \n",
       "..              ...         ...                  ...     ...        ...   \n",
       "627             NaN   heilbronn            Pforzheim   75–90          1   \n",
       "628             NaN   heilbronn  Esslingen am Neckar   50–60          1   \n",
       "629   1,9,11,3,4,10  eberswalde               Berlin      34          1   \n",
       "630   1,9,11,3,4,10  eberswalde              Wildau¹  90–100          1   \n",
       "631             NaN    würzburg          Schweinfurt   22–26          2   \n",
       "\n",
       "    Distance (km)       city2 Jobs in City  \n",
       "0           26.14     potsdam         62.0  \n",
       "1           40.21     potsdam         62.0  \n",
       "2            7.05     potsdam         62.0  \n",
       "3           30.18   stuttgart        723.0  \n",
       "4           40.56   stuttgart        723.0  \n",
       "..            ...         ...          ...  \n",
       "627         46.95   heilbronn        171.0  \n",
       "628         44.90   heilbronn        171.0  \n",
       "629         45.12  eberswalde          0.0  \n",
       "630         58.24  eberswalde          0.0  \n",
       "631         36.44    würzburg         62.0  \n",
       "\n",
       "[632 rows x 23 columns]"
      ]
     },
     "execution_count": 12,
     "metadata": {},
     "output_type": "execute_result"
    }
   ],
   "source": [
    "final_df"
   ]
  },
  {
   "cell_type": "code",
   "execution_count": 13,
   "metadata": {},
   "outputs": [
    {
     "name": "stdout",
     "output_type": "stream",
     "text": [
      "<class 'pandas.core.frame.DataFrame'>\n",
      "RangeIndex: 632 entries, 0 to 631\n",
      "Data columns (total 23 columns):\n",
      " #   Column                        Non-Null Count  Dtype  \n",
      "---  ------                        --------------  -----  \n",
      " 0   id                            632 non-null    int64  \n",
      " 1   Description/content           632 non-null    object \n",
      " 2   Course Organisation           632 non-null    object \n",
      " 3   tags                          632 non-null    object \n",
      " 4   CourseNameShort               632 non-null    object \n",
      " 5   Academy                       632 non-null    object \n",
      " 6   City                          632 non-null    object \n",
      " 7   Languages                     632 non-null    object \n",
      " 8   ProgrammeDuration             632 non-null    object \n",
      " 9   TuitionFees                   220 non-null    object \n",
      " 10  ApplicationDeadline           632 non-null    object \n",
      " 11  IsCompleteOnlinePossible      632 non-null    bool   \n",
      " 12  BadgeLabel                    93 non-null     object \n",
      " 13  SupportInternationalStudents  632 non-null    object \n",
      " 14  Subject                       632 non-null    object \n",
      " 15  TypeOfElearning               108 non-null    object \n",
      " 16  From                          632 non-null    object \n",
      " 17  To                            632 non-null    object \n",
      " 18  Time                          632 non-null    object \n",
      " 19  Frequency                     632 non-null    object \n",
      " 20  Distance (km)                 632 non-null    float64\n",
      " 21  city2                         622 non-null    object \n",
      " 22  Jobs in City                  622 non-null    float64\n",
      "dtypes: bool(1), float64(2), int64(1), object(19)\n",
      "memory usage: 109.4+ KB\n"
     ]
    }
   ],
   "source": [
    "final_df.info()"
   ]
  },
  {
   "cell_type": "code",
   "execution_count": 14,
   "metadata": {},
   "outputs": [
    {
     "data": {
      "text/plain": [
       "id                     0\n",
       "Description/content    0\n",
       "Course Organisation    0\n",
       "tags                   0\n",
       "dtype: int64"
      ]
     },
     "execution_count": 14,
     "metadata": {},
     "output_type": "execute_result"
    }
   ],
   "source": [
    "pdf.isnull().sum()\n"
   ]
  },
  {
   "cell_type": "code",
   "execution_count": 15,
   "metadata": {},
   "outputs": [
    {
     "data": {
      "text/plain": [
       "np.int64(0)"
      ]
     },
     "execution_count": 15,
     "metadata": {},
     "output_type": "execute_result"
    }
   ],
   "source": [
    "\n",
    "pdf.duplicated().sum()"
   ]
  },
  {
   "cell_type": "code",
   "execution_count": 16,
   "metadata": {},
   "outputs": [
    {
     "name": "stdout",
     "output_type": "stream",
     "text": [
      "<class 'pandas.core.frame.DataFrame'>\n",
      "RangeIndex: 632 entries, 0 to 631\n",
      "Data columns (total 23 columns):\n",
      " #   Column                        Non-Null Count  Dtype  \n",
      "---  ------                        --------------  -----  \n",
      " 0   id                            632 non-null    int64  \n",
      " 1   Description/content           632 non-null    object \n",
      " 2   Course Organisation           632 non-null    object \n",
      " 3   tags                          632 non-null    object \n",
      " 4   CourseNameShort               632 non-null    object \n",
      " 5   Academy                       632 non-null    object \n",
      " 6   City                          632 non-null    object \n",
      " 7   Languages                     632 non-null    object \n",
      " 8   ProgrammeDuration             632 non-null    object \n",
      " 9   TuitionFees                   220 non-null    object \n",
      " 10  ApplicationDeadline           632 non-null    object \n",
      " 11  IsCompleteOnlinePossible      632 non-null    bool   \n",
      " 12  BadgeLabel                    93 non-null     object \n",
      " 13  SupportInternationalStudents  632 non-null    object \n",
      " 14  Subject                       632 non-null    object \n",
      " 15  TypeOfElearning               108 non-null    object \n",
      " 16  From                          632 non-null    object \n",
      " 17  To                            632 non-null    object \n",
      " 18  Time                          632 non-null    object \n",
      " 19  Frequency                     632 non-null    object \n",
      " 20  Distance (km)                 632 non-null    float64\n",
      " 21  city2                         622 non-null    object \n",
      " 22  Jobs in City                  622 non-null    float64\n",
      "dtypes: bool(1), float64(2), int64(1), object(19)\n",
      "memory usage: 109.4+ KB\n"
     ]
    }
   ],
   "source": [
    "final_df.info()"
   ]
  },
  {
   "cell_type": "code",
   "execution_count": 17,
   "metadata": {},
   "outputs": [],
   "source": [
    "Basic_Df = final_df[['id','tags','CourseNameShort','Academy']]"
   ]
  },
  {
   "cell_type": "code",
   "execution_count": 18,
   "metadata": {},
   "outputs": [
    {
     "data": {
      "text/html": [
       "<div>\n",
       "<style scoped>\n",
       "    .dataframe tbody tr th:only-of-type {\n",
       "        vertical-align: middle;\n",
       "    }\n",
       "\n",
       "    .dataframe tbody tr th {\n",
       "        vertical-align: top;\n",
       "    }\n",
       "\n",
       "    .dataframe thead th {\n",
       "        text-align: right;\n",
       "    }\n",
       "</style>\n",
       "<table border=\"1\" class=\"dataframe\">\n",
       "  <thead>\n",
       "    <tr style=\"text-align: right;\">\n",
       "      <th></th>\n",
       "      <th>id</th>\n",
       "      <th>tags</th>\n",
       "      <th>CourseNameShort</th>\n",
       "      <th>Academy</th>\n",
       "    </tr>\n",
       "  </thead>\n",
       "  <tbody>\n",
       "    <tr>\n",
       "      <th>0</th>\n",
       "      <td>8305</td>\n",
       "      <td>In the Master's programme, the schedule can be...</td>\n",
       "      <td>Computer Science</td>\n",
       "      <td>University Of Potsdam</td>\n",
       "    </tr>\n",
       "    <tr>\n",
       "      <th>1</th>\n",
       "      <td>8305</td>\n",
       "      <td>In the Master's programme, the schedule can be...</td>\n",
       "      <td>Computer Science</td>\n",
       "      <td>University Of Potsdam</td>\n",
       "    </tr>\n",
       "    <tr>\n",
       "      <th>2</th>\n",
       "      <td>8305</td>\n",
       "      <td>In the Master's programme, the schedule can be...</td>\n",
       "      <td>Computer Science</td>\n",
       "      <td>University Of Potsdam</td>\n",
       "    </tr>\n",
       "    <tr>\n",
       "      <th>3</th>\n",
       "      <td>4439</td>\n",
       "      <td>In the first semester, the module theoretical ...</td>\n",
       "      <td>Computer Science</td>\n",
       "      <td>University Of Stuttgart</td>\n",
       "    </tr>\n",
       "    <tr>\n",
       "      <th>4</th>\n",
       "      <td>4439</td>\n",
       "      <td>In the first semester, the module theoretical ...</td>\n",
       "      <td>Computer Science</td>\n",
       "      <td>University Of Stuttgart</td>\n",
       "    </tr>\n",
       "    <tr>\n",
       "      <th>...</th>\n",
       "      <td>...</td>\n",
       "      <td>...</td>\n",
       "      <td>...</td>\n",
       "      <td>...</td>\n",
       "    </tr>\n",
       "    <tr>\n",
       "      <th>627</th>\n",
       "      <td>9595</td>\n",
       "      <td>The MSc in Information Engineering programme c...</td>\n",
       "      <td>Information Engineering</td>\n",
       "      <td>Technical University Of Munich</td>\n",
       "    </tr>\n",
       "    <tr>\n",
       "      <th>628</th>\n",
       "      <td>9595</td>\n",
       "      <td>The MSc in Information Engineering programme c...</td>\n",
       "      <td>Information Engineering</td>\n",
       "      <td>Technical University Of Munich</td>\n",
       "    </tr>\n",
       "    <tr>\n",
       "      <th>629</th>\n",
       "      <td>3724</td>\n",
       "      <td>The first semester takes place at the Eberswal...</td>\n",
       "      <td>Forest Information Technology (FIT)</td>\n",
       "      <td>Eberswalde University For Sustainable Development</td>\n",
       "    </tr>\n",
       "    <tr>\n",
       "      <th>630</th>\n",
       "      <td>3724</td>\n",
       "      <td>The first semester takes place at the Eberswal...</td>\n",
       "      <td>Forest Information Technology (FIT)</td>\n",
       "      <td>Eberswalde University For Sustainable Development</td>\n",
       "    </tr>\n",
       "    <tr>\n",
       "      <th>631</th>\n",
       "      <td>6981</td>\n",
       "      <td>The programme reflects the three phases of spa...</td>\n",
       "      <td>Satellite Technology (SaTec)</td>\n",
       "      <td>Julius-Maximilians-Universität Würzburg</td>\n",
       "    </tr>\n",
       "  </tbody>\n",
       "</table>\n",
       "<p>632 rows × 4 columns</p>\n",
       "</div>"
      ],
      "text/plain": [
       "       id                                               tags  \\\n",
       "0    8305  In the Master's programme, the schedule can be...   \n",
       "1    8305  In the Master's programme, the schedule can be...   \n",
       "2    8305  In the Master's programme, the schedule can be...   \n",
       "3    4439  In the first semester, the module theoretical ...   \n",
       "4    4439  In the first semester, the module theoretical ...   \n",
       "..    ...                                                ...   \n",
       "627  9595  The MSc in Information Engineering programme c...   \n",
       "628  9595  The MSc in Information Engineering programme c...   \n",
       "629  3724  The first semester takes place at the Eberswal...   \n",
       "630  3724  The first semester takes place at the Eberswal...   \n",
       "631  6981  The programme reflects the three phases of spa...   \n",
       "\n",
       "                         CourseNameShort  \\\n",
       "0                       Computer Science   \n",
       "1                       Computer Science   \n",
       "2                       Computer Science   \n",
       "3                       Computer Science   \n",
       "4                       Computer Science   \n",
       "..                                   ...   \n",
       "627              Information Engineering   \n",
       "628              Information Engineering   \n",
       "629  Forest Information Technology (FIT)   \n",
       "630  Forest Information Technology (FIT)   \n",
       "631         Satellite Technology (SaTec)   \n",
       "\n",
       "                                               Academy  \n",
       "0                                University Of Potsdam  \n",
       "1                                University Of Potsdam  \n",
       "2                                University Of Potsdam  \n",
       "3                              University Of Stuttgart  \n",
       "4                              University Of Stuttgart  \n",
       "..                                                 ...  \n",
       "627                     Technical University Of Munich  \n",
       "628                     Technical University Of Munich  \n",
       "629  Eberswalde University For Sustainable Development  \n",
       "630  Eberswalde University For Sustainable Development  \n",
       "631            Julius-Maximilians-Universität Würzburg  \n",
       "\n",
       "[632 rows x 4 columns]"
      ]
     },
     "execution_count": 18,
     "metadata": {},
     "output_type": "execute_result"
    }
   ],
   "source": [
    "Basic_Df"
   ]
  },
  {
   "cell_type": "code",
   "execution_count": 19,
   "metadata": {},
   "outputs": [
    {
     "data": {
      "text/plain": [
       "np.int64(493)"
      ]
     },
     "execution_count": 19,
     "metadata": {},
     "output_type": "execute_result"
    }
   ],
   "source": [
    "Basic_Df.duplicated().sum()"
   ]
  },
  {
   "cell_type": "code",
   "execution_count": 20,
   "metadata": {},
   "outputs": [
    {
     "name": "stderr",
     "output_type": "stream",
     "text": [
      "C:\\Users\\gaura\\AppData\\Local\\Temp\\ipykernel_13316\\3448476547.py:1: SettingWithCopyWarning: \n",
      "A value is trying to be set on a copy of a slice from a DataFrame\n",
      "\n",
      "See the caveats in the documentation: https://pandas.pydata.org/pandas-docs/stable/user_guide/indexing.html#returning-a-view-versus-a-copy\n",
      "  Basic_Df.drop_duplicates(inplace=True)\n"
     ]
    }
   ],
   "source": [
    "Basic_Df.drop_duplicates(inplace=True)"
   ]
  },
  {
   "cell_type": "markdown",
   "metadata": {},
   "source": [
    "# Text Vectorization "
   ]
  },
  {
   "cell_type": "code",
   "execution_count": 131,
   "metadata": {},
   "outputs": [
    {
     "name": "stdout",
     "output_type": "stream",
     "text": [
      "Requirement already satisfied: scikit-learn in c:\\users\\gaura\\anaconda3\\envs\\ai_project\\lib\\site-packages (1.6.0)\n",
      "Requirement already satisfied: numpy>=1.19.5 in c:\\users\\gaura\\anaconda3\\envs\\ai_project\\lib\\site-packages (from scikit-learn) (2.0.2)\n",
      "Requirement already satisfied: scipy>=1.6.0 in c:\\users\\gaura\\anaconda3\\envs\\ai_project\\lib\\site-packages (from scikit-learn) (1.13.1)\n",
      "Requirement already satisfied: joblib>=1.2.0 in c:\\users\\gaura\\anaconda3\\envs\\ai_project\\lib\\site-packages (from scikit-learn) (1.4.2)\n",
      "Requirement already satisfied: threadpoolctl>=3.1.0 in c:\\users\\gaura\\anaconda3\\envs\\ai_project\\lib\\site-packages (from scikit-learn) (3.5.0)\n"
     ]
    }
   ],
   "source": [
    "!pip install scikit-learn"
   ]
  },
  {
   "cell_type": "code",
   "execution_count": 21,
   "metadata": {},
   "outputs": [],
   "source": [
    "from sklearn.feature_extraction.text import CountVectorizer\n",
    "cv = CountVectorizer(max_features=5000,stop_words='english')"
   ]
  },
  {
   "cell_type": "code",
   "execution_count": 22,
   "metadata": {},
   "outputs": [],
   "source": [
    "vectors = cv.fit_transform(Basic_Df['tags']).toarray()"
   ]
  },
  {
   "cell_type": "code",
   "execution_count": 23,
   "metadata": {},
   "outputs": [
    {
     "data": {
      "text/plain": [
       "array([[0, 0, 0, ..., 0, 0, 0],\n",
       "       [0, 0, 0, ..., 0, 0, 0],\n",
       "       [0, 0, 0, ..., 0, 0, 0],\n",
       "       ...,\n",
       "       [0, 0, 0, ..., 0, 0, 0],\n",
       "       [0, 0, 0, ..., 0, 0, 0],\n",
       "       [0, 0, 0, ..., 0, 0, 0]])"
      ]
     },
     "execution_count": 23,
     "metadata": {},
     "output_type": "execute_result"
    }
   ],
   "source": [
    "vectors"
   ]
  },
  {
   "cell_type": "code",
   "execution_count": 24,
   "metadata": {},
   "outputs": [
    {
     "data": {
      "text/plain": [
       "array([0, 0, 0, ..., 0, 0, 0])"
      ]
     },
     "execution_count": 24,
     "metadata": {},
     "output_type": "execute_result"
    }
   ],
   "source": [
    "vectors[0]"
   ]
  },
  {
   "cell_type": "code",
   "execution_count": 25,
   "metadata": {},
   "outputs": [
    {
     "data": {
      "text/plain": [
       "array(['000', '0non', '0the', ..., 'yourmaster', 'yourscientific',\n",
       "       'zwickau'], dtype=object)"
      ]
     },
     "execution_count": 25,
     "metadata": {},
     "output_type": "execute_result"
    }
   ],
   "source": [
    "cv.get_feature_names_out()"
   ]
  },
  {
   "cell_type": "markdown",
   "metadata": {},
   "source": [
    "## NLTK "
   ]
  },
  {
   "cell_type": "code",
   "execution_count": 76,
   "metadata": {},
   "outputs": [
    {
     "name": "stdout",
     "output_type": "stream",
     "text": [
      "Collecting nltk\n",
      "  Downloading nltk-3.9.1-py3-none-any.whl.metadata (2.9 kB)\n",
      "Collecting click (from nltk)\n",
      "  Downloading click-8.1.8-py3-none-any.whl.metadata (2.3 kB)\n",
      "Requirement already satisfied: joblib in c:\\users\\gaura\\anaconda3\\envs\\ai_project\\lib\\site-packages (from nltk) (1.4.2)\n",
      "Collecting regex>=2021.8.3 (from nltk)\n",
      "  Downloading regex-2024.11.6-cp39-cp39-win_amd64.whl.metadata (41 kB)\n",
      "Collecting tqdm (from nltk)\n",
      "  Downloading tqdm-4.67.1-py3-none-any.whl.metadata (57 kB)\n",
      "Requirement already satisfied: colorama in c:\\users\\gaura\\anaconda3\\envs\\ai_project\\lib\\site-packages (from click->nltk) (0.4.6)\n",
      "Downloading nltk-3.9.1-py3-none-any.whl (1.5 MB)\n",
      "   ---------------------------------------- 0.0/1.5 MB ? eta -:--:--\n",
      "   ---------------------------------------- 1.5/1.5 MB 7.2 MB/s eta 0:00:00\n",
      "Downloading regex-2024.11.6-cp39-cp39-win_amd64.whl (274 kB)\n",
      "Downloading click-8.1.8-py3-none-any.whl (98 kB)\n",
      "Downloading tqdm-4.67.1-py3-none-any.whl (78 kB)\n",
      "Installing collected packages: tqdm, regex, click, nltk\n",
      "Successfully installed click-8.1.8 nltk-3.9.1 regex-2024.11.6 tqdm-4.67.1\n"
     ]
    }
   ],
   "source": [
    "!pip install nltk"
   ]
  },
  {
   "cell_type": "code",
   "execution_count": 26,
   "metadata": {},
   "outputs": [],
   "source": [
    "import nltk "
   ]
  },
  {
   "cell_type": "code",
   "execution_count": 27,
   "metadata": {},
   "outputs": [],
   "source": [
    "from nltk.stem.porter import PorterStemmer\n",
    "ps = PorterStemmer()"
   ]
  },
  {
   "cell_type": "code",
   "execution_count": 28,
   "metadata": {},
   "outputs": [],
   "source": [
    "def stem(text):\n",
    "    y = []\n",
    "\n",
    "    for i in text.split():\n",
    "        y.append(ps.stem(i))\n",
    "\n",
    "    return \" \".join(y)"
   ]
  },
  {
   "cell_type": "code",
   "execution_count": 29,
   "metadata": {},
   "outputs": [
    {
     "name": "stderr",
     "output_type": "stream",
     "text": [
      "C:\\Users\\gaura\\AppData\\Local\\Temp\\ipykernel_13316\\259960460.py:1: SettingWithCopyWarning: \n",
      "A value is trying to be set on a copy of a slice from a DataFrame.\n",
      "Try using .loc[row_indexer,col_indexer] = value instead\n",
      "\n",
      "See the caveats in the documentation: https://pandas.pydata.org/pandas-docs/stable/user_guide/indexing.html#returning-a-view-versus-a-copy\n",
      "  Basic_Df['tags'] = Basic_Df['tags'].apply(stem)\n"
     ]
    }
   ],
   "source": [
    "Basic_Df['tags'] = Basic_Df['tags'].apply(stem)"
   ]
  },
  {
   "cell_type": "markdown",
   "metadata": {},
   "source": [
    "# Repeat Vectorization Once again "
   ]
  },
  {
   "cell_type": "code",
   "execution_count": 30,
   "metadata": {},
   "outputs": [],
   "source": [
    "from sklearn.feature_extraction.text import CountVectorizer\n",
    "cv = CountVectorizer(max_features=5000,stop_words='english')"
   ]
  },
  {
   "cell_type": "code",
   "execution_count": 31,
   "metadata": {},
   "outputs": [],
   "source": [
    "vectors = cv.fit_transform(Basic_Df['tags']).toarray()"
   ]
  },
  {
   "cell_type": "code",
   "execution_count": 32,
   "metadata": {},
   "outputs": [
    {
     "data": {
      "text/plain": [
       "array([0, 0, 0, ..., 0, 0, 0])"
      ]
     },
     "execution_count": 32,
     "metadata": {},
     "output_type": "execute_result"
    }
   ],
   "source": [
    "vectors[0]"
   ]
  },
  {
   "cell_type": "code",
   "execution_count": 33,
   "metadata": {},
   "outputs": [
    {
     "data": {
      "text/plain": [
       "array(['000', '0non', '0the', ..., 'yourmaster', 'yourscientific',\n",
       "       'zwickau'], dtype=object)"
      ]
     },
     "execution_count": 33,
     "metadata": {},
     "output_type": "execute_result"
    }
   ],
   "source": [
    "cv.get_feature_names_out()"
   ]
  },
  {
   "cell_type": "markdown",
   "metadata": {},
   "source": [
    "### Co sine distance"
   ]
  },
  {
   "cell_type": "code",
   "execution_count": 34,
   "metadata": {},
   "outputs": [],
   "source": [
    "from sklearn.metrics.pairwise import cosine_similarity"
   ]
  },
  {
   "cell_type": "code",
   "execution_count": 35,
   "metadata": {},
   "outputs": [
    {
     "data": {
      "text/plain": [
       "(139, 139)"
      ]
     },
     "execution_count": 35,
     "metadata": {},
     "output_type": "execute_result"
    }
   ],
   "source": [
    "cosine_similarity(vectors).shape"
   ]
  },
  {
   "cell_type": "code",
   "execution_count": 36,
   "metadata": {},
   "outputs": [],
   "source": [
    "similarity = cosine_similarity(vectors)"
   ]
  },
  {
   "cell_type": "code",
   "execution_count": 37,
   "metadata": {},
   "outputs": [
    {
     "data": {
      "text/plain": [
       "[(22, np.float64(0.4555347757702877)),\n",
       " (5, np.float64(0.4358936772164252)),\n",
       " (8, np.float64(0.43464342883147966)),\n",
       " (24, np.float64(0.43017207307923444)),\n",
       " (3, np.float64(0.42508156776537165)),\n",
       " (10, np.float64(0.4243459418190091)),\n",
       " (9, np.float64(0.4162747405813562)),\n",
       " (123, np.float64(0.4155495499102746)),\n",
       " (34, np.float64(0.4014057314990032)),\n",
       " (11, np.float64(0.39213455619214155)),\n",
       " (14, np.float64(0.3804371616993746)),\n",
       " (114, np.float64(0.37398178954605743)),\n",
       " (35, np.float64(0.37271413032215434)),\n",
       " (1, np.float64(0.3719688824533881))]"
      ]
     },
     "execution_count": 37,
     "metadata": {},
     "output_type": "execute_result"
    }
   ],
   "source": [
    "sorted(list(enumerate(similarity[0])),reverse=True,key = lambda x:x[1])[1:15]"
   ]
  },
  {
   "cell_type": "code",
   "execution_count": 38,
   "metadata": {},
   "outputs": [],
   "source": [
    "Basic_Df\n",
    "Basic_Df.reset_index(drop=True, inplace=True)\n"
   ]
  },
  {
   "cell_type": "code",
   "execution_count": 39,
   "metadata": {},
   "outputs": [
    {
     "data": {
      "text/html": [
       "<div>\n",
       "<style scoped>\n",
       "    .dataframe tbody tr th:only-of-type {\n",
       "        vertical-align: middle;\n",
       "    }\n",
       "\n",
       "    .dataframe tbody tr th {\n",
       "        vertical-align: top;\n",
       "    }\n",
       "\n",
       "    .dataframe thead th {\n",
       "        text-align: right;\n",
       "    }\n",
       "</style>\n",
       "<table border=\"1\" class=\"dataframe\">\n",
       "  <thead>\n",
       "    <tr style=\"text-align: right;\">\n",
       "      <th></th>\n",
       "      <th>id</th>\n",
       "      <th>tags</th>\n",
       "      <th>CourseNameShort</th>\n",
       "      <th>Academy</th>\n",
       "    </tr>\n",
       "  </thead>\n",
       "  <tbody>\n",
       "    <tr>\n",
       "      <th>0</th>\n",
       "      <td>8305</td>\n",
       "      <td>in the master' programme, the schedul can be a...</td>\n",
       "      <td>Computer Science</td>\n",
       "      <td>University Of Potsdam</td>\n",
       "    </tr>\n",
       "    <tr>\n",
       "      <th>1</th>\n",
       "      <td>4439</td>\n",
       "      <td>in the first semester, the modul theoret and m...</td>\n",
       "      <td>Computer Science</td>\n",
       "      <td>University Of Stuttgart</td>\n",
       "    </tr>\n",
       "    <tr>\n",
       "      <th>2</th>\n",
       "      <td>4870</td>\n",
       "      <td>three semesters:semest one and two: theori and...</td>\n",
       "      <td>MSc Applied Computer Science</td>\n",
       "      <td>Deggendorf Institute Of Technology</td>\n",
       "    </tr>\n",
       "    <tr>\n",
       "      <th>3</th>\n",
       "      <td>5616</td>\n",
       "      <td>the programm is organis in modules, with an ov...</td>\n",
       "      <td>Master Of Science In Computer Science</td>\n",
       "      <td>Paderborn University</td>\n",
       "    </tr>\n",
       "    <tr>\n",
       "      <th>4</th>\n",
       "      <td>4455</td>\n",
       "      <td>you will choos modul from the follow five subj...</td>\n",
       "      <td>MSc Computer Science</td>\n",
       "      <td>University Of Passau</td>\n",
       "    </tr>\n",
       "    <tr>\n",
       "      <th>...</th>\n",
       "      <td>...</td>\n",
       "      <td>...</td>\n",
       "      <td>...</td>\n",
       "      <td>...</td>\n",
       "    </tr>\n",
       "    <tr>\n",
       "      <th>134</th>\n",
       "      <td>6262</td>\n",
       "      <td>the studi programm start off with lectur that ...</td>\n",
       "      <td>Cognitive Systems: Language, Learning, And Rea...</td>\n",
       "      <td>University Of Potsdam</td>\n",
       "    </tr>\n",
       "    <tr>\n",
       "      <th>135</th>\n",
       "      <td>4407</td>\n",
       "      <td>besid compulsori and elect modul with advanc t...</td>\n",
       "      <td>Medical Engineering: Imaging, Health &amp; Data An...</td>\n",
       "      <td>FAU Erlangen-Nürnberg</td>\n",
       "    </tr>\n",
       "    <tr>\n",
       "      <th>136</th>\n",
       "      <td>9595</td>\n",
       "      <td>the msc in inform engin programm consist of co...</td>\n",
       "      <td>Information Engineering</td>\n",
       "      <td>Technical University Of Munich</td>\n",
       "    </tr>\n",
       "    <tr>\n",
       "      <th>137</th>\n",
       "      <td>3724</td>\n",
       "      <td>the first semest take place at the eberswald u...</td>\n",
       "      <td>Forest Information Technology (FIT)</td>\n",
       "      <td>Eberswalde University For Sustainable Development</td>\n",
       "    </tr>\n",
       "    <tr>\n",
       "      <th>138</th>\n",
       "      <td>6981</td>\n",
       "      <td>the programm reflect the three phase of space ...</td>\n",
       "      <td>Satellite Technology (SaTec)</td>\n",
       "      <td>Julius-Maximilians-Universität Würzburg</td>\n",
       "    </tr>\n",
       "  </tbody>\n",
       "</table>\n",
       "<p>139 rows × 4 columns</p>\n",
       "</div>"
      ],
      "text/plain": [
       "       id                                               tags  \\\n",
       "0    8305  in the master' programme, the schedul can be a...   \n",
       "1    4439  in the first semester, the modul theoret and m...   \n",
       "2    4870  three semesters:semest one and two: theori and...   \n",
       "3    5616  the programm is organis in modules, with an ov...   \n",
       "4    4455  you will choos modul from the follow five subj...   \n",
       "..    ...                                                ...   \n",
       "134  6262  the studi programm start off with lectur that ...   \n",
       "135  4407  besid compulsori and elect modul with advanc t...   \n",
       "136  9595  the msc in inform engin programm consist of co...   \n",
       "137  3724  the first semest take place at the eberswald u...   \n",
       "138  6981  the programm reflect the three phase of space ...   \n",
       "\n",
       "                                       CourseNameShort  \\\n",
       "0                                     Computer Science   \n",
       "1                                     Computer Science   \n",
       "2                         MSc Applied Computer Science   \n",
       "3                Master Of Science In Computer Science   \n",
       "4                                 MSc Computer Science   \n",
       "..                                                 ...   \n",
       "134  Cognitive Systems: Language, Learning, And Rea...   \n",
       "135  Medical Engineering: Imaging, Health & Data An...   \n",
       "136                            Information Engineering   \n",
       "137                Forest Information Technology (FIT)   \n",
       "138                       Satellite Technology (SaTec)   \n",
       "\n",
       "                                               Academy  \n",
       "0                                University Of Potsdam  \n",
       "1                              University Of Stuttgart  \n",
       "2                   Deggendorf Institute Of Technology  \n",
       "3                                 Paderborn University  \n",
       "4                                 University Of Passau  \n",
       "..                                                 ...  \n",
       "134                              University Of Potsdam  \n",
       "135                              FAU Erlangen-Nürnberg  \n",
       "136                     Technical University Of Munich  \n",
       "137  Eberswalde University For Sustainable Development  \n",
       "138            Julius-Maximilians-Universität Würzburg  \n",
       "\n",
       "[139 rows x 4 columns]"
      ]
     },
     "execution_count": 39,
     "metadata": {},
     "output_type": "execute_result"
    }
   ],
   "source": [
    "Basic_Df"
   ]
  },
  {
   "cell_type": "code",
   "execution_count": 40,
   "metadata": {},
   "outputs": [
    {
     "data": {
      "text/plain": [
       "np.int64(1)"
      ]
     },
     "execution_count": 40,
     "metadata": {},
     "output_type": "execute_result"
    }
   ],
   "source": [
    "Basic_Df[Basic_Df['Academy'] == 'University Of Stuttgart'].index[0]"
   ]
  },
  {
   "cell_type": "code",
   "execution_count": 41,
   "metadata": {},
   "outputs": [],
   "source": [
    "def recommend(uni):\n",
    "    uni_index = Basic_Df[Basic_Df['Academy'] == uni].index[0]\n",
    "    distances = similarity[uni_index]\n",
    "    uni_list = sorted(list(enumerate(distances)),reverse=True,key = lambda x:x[1])[1:15]\n",
    "\n",
    "    print(f\"{'ID':<10} {'Course Name':<70} {'Academy':<40}\")\n",
    "    print(\"-\" * 160)\n",
    "    for i in uni_list:\n",
    "        print(f\"{Basic_Df.iloc[i[0]].id:<10} {Basic_Df.iloc[i[0]].CourseNameShort:<70} {Basic_Df.iloc[i[0]].Academy:<40}\")\n",
    "            \n"
   ]
  },
  {
   "cell_type": "code",
   "execution_count": 42,
   "metadata": {},
   "outputs": [
    {
     "name": "stdout",
     "output_type": "stream",
     "text": [
      "ID         Course Name                                                            Academy                                 \n",
      "----------------------------------------------------------------------------------------------------------------------------------------------------------------\n",
      "4238       Computer Science For Digital Media                                     Bauhaus-Universität Weimar              \n",
      "4660       Human-Computer Interaction (HCI)                                       Bauhaus-Universität Weimar              \n",
      "4591       Computer Science                                                       University Of Siegen                    \n",
      "7040       Engineering Of Socio-Technical Systems                                 Carl Von Ossietzky University Of Oldenburg\n",
      "3736       MSc Computer Science                                                   University Of Freiburg                  \n",
      "3727       Computational Engineering (CE), MSc                                    FAU Erlangen-Nürnberg                   \n",
      "5616       Master Of Science In Computer Science                                  Paderborn University                    \n",
      "4427       Digital Engineering (DigiEng)                                          Otto Von Guericke University Magdeburg  \n",
      "3696       Software Systems Engineering                                           RWTH Aachen University                  \n",
      "5245       Computer Science (MSc)                                                 University Of Bayreuth                  \n",
      "4513       Master'S In Embedded Systems Engineering (ESE)                         Dortmund University Of Applied Sciences And Arts\n",
      "9042       Computer Science (MSc)                                                 Philipps-Universität Marburg            \n",
      "9673       Computer Science MSc                                                   Ruhr-Universität Bochum                 \n",
      "4439       Computer Science                                                       University Of Stuttgart                 \n"
     ]
    }
   ],
   "source": [
    "recommend('Deggendorf Institute Of Technology')"
   ]
  },
  {
   "cell_type": "code",
   "execution_count": 45,
   "metadata": {},
   "outputs": [
    {
     "name": "stdout",
     "output_type": "stream",
     "text": [
      "ID         Course Name                                                            Academy                                 \n",
      "----------------------------------------------------------------------------------------------------------------------------------------------------------------\n",
      "4238       Computer Science For Digital Media                                     Bauhaus-Universität Weimar              \n",
      "4660       Human-Computer Interaction (HCI)                                       Bauhaus-Universität Weimar              \n",
      "9673       Computer Science MSc                                                   Ruhr-Universität Bochum                 \n",
      "9042       Computer Science (MSc)                                                 Philipps-Universität Marburg            \n",
      "4513       Master'S In Embedded Systems Engineering (ESE)                         Dortmund University Of Applied Sciences And Arts\n",
      "4879       Master'S In Digital Transformation (MDT)                               Dortmund University Of Applied Sciences And Arts\n",
      "7670       Visual Computing                                                       Otto Von Guericke University Magdeburg  \n",
      "3862       Geospatial Technologies (MSc)                                          University Of Münster                   \n",
      "3614       Cognitive Science (MSc)                                                Osnabrück University                    \n",
      "4249       Computer And Information Science (MSc)                                 University Of Konstanz                  \n",
      "4350       MSc Intelligent Adaptive Systems (IAS)                                 Universität Hamburg                     \n",
      "4591       Computer Science                                                       University Of Siegen                    \n",
      "3736       MSc Computer Science                                                   University Of Freiburg                  \n",
      "4439       Computer Science                                                       University Of Stuttgart                 \n"
     ]
    }
   ],
   "source": [
    "\n",
    "# recommend('University Of Potsdam')\n",
    "# recommend('Trier University')\n",
    "# recommend('Bingen Technical University Of Applied Sciences')\n",
    "# recommend('University Of Bayreuth')\n",
    "9"
   ]
  },
  {
   "cell_type": "code",
   "execution_count": 154,
   "metadata": {},
   "outputs": [
    {
     "data": {
      "text/plain": [
       "id                                                              4343\n",
       "tags               firstandsecondsemesters:informandcodetheoryima...\n",
       "CourseNameShort                        Information Technology (MEng)\n",
       "Academy                                             SRH Universities\n",
       "Name: 82, dtype: object"
      ]
     },
     "execution_count": 154,
     "metadata": {},
     "output_type": "execute_result"
    }
   ],
   "source": [
    "Basic_Df.iloc[82]"
   ]
  },
  {
   "cell_type": "code",
   "execution_count": null,
   "metadata": {},
   "outputs": [],
   "source": []
  }
 ],
 "metadata": {
  "kernelspec": {
   "display_name": "AI_Project",
   "language": "python",
   "name": "python3"
  },
  "language_info": {
   "codemirror_mode": {
    "name": "ipython",
    "version": 3
   },
   "file_extension": ".py",
   "mimetype": "text/x-python",
   "name": "python",
   "nbconvert_exporter": "python",
   "pygments_lexer": "ipython3",
   "version": "3.9.20"
  }
 },
 "nbformat": 4,
 "nbformat_minor": 2
}
