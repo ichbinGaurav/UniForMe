{
 "cells": [
  {
   "cell_type": "markdown",
   "metadata": {},
   "source": [
    "Get personalized recommendations for universities offering programs similar to your chosen course. These suggestions are based on the course subjects, syllabus, and program content, helping you find the best option for your education and career goals."
   ]
  },
  {
   "cell_type": "code",
   "execution_count": 1,
   "metadata": {},
   "outputs": [],
   "source": [
    "import pandas as pd\n",
    "import numpy as np "
   ]
  },
  {
   "cell_type": "code",
   "execution_count": 2,
   "metadata": {},
   "outputs": [],
   "source": [
    "import json "
   ]
  },
  {
   "cell_type": "code",
   "execution_count": 3,
   "metadata": {},
   "outputs": [],
   "source": [
    "\n",
    "json_path = '../datasets/program_details.json'\n",
    "\n",
    "with open(json_path, 'r', encoding=\"utf8\") as file:\n",
    "    program_details = json.load(file)\n",
    "\n",
    "valid_program_details = [\n",
    "    entry for entry in program_details if entry is not None and isinstance(entry, dict)\n",
    "]\n",
    "\n",
    "pdf = pd.DataFrame(valid_program_details)\n",
    "\n",
    "\n"
   ]
  },
  {
   "cell_type": "code",
   "execution_count": 4,
   "metadata": {},
   "outputs": [
    {
     "data": {
      "text/html": [
       "<div>\n",
       "<style scoped>\n",
       "    .dataframe tbody tr th:only-of-type {\n",
       "        vertical-align: middle;\n",
       "    }\n",
       "\n",
       "    .dataframe tbody tr th {\n",
       "        vertical-align: top;\n",
       "    }\n",
       "\n",
       "    .dataframe thead th {\n",
       "        text-align: right;\n",
       "    }\n",
       "</style>\n",
       "<table border=\"1\" class=\"dataframe\">\n",
       "  <thead>\n",
       "    <tr style=\"text-align: right;\">\n",
       "      <th></th>\n",
       "      <th>id</th>\n",
       "      <th>Description/content</th>\n",
       "      <th>Course Organisation</th>\n",
       "    </tr>\n",
       "  </thead>\n",
       "  <tbody>\n",
       "    <tr>\n",
       "      <th>0</th>\n",
       "      <td>8305</td>\n",
       "      <td>The Master's in Computer Science offers a comp...</td>\n",
       "      <td>In the Master's programme, the schedule can be...</td>\n",
       "    </tr>\n",
       "    <tr>\n",
       "      <th>1</th>\n",
       "      <td>4439</td>\n",
       "      <td>Combining the breadth of a traditional course ...</td>\n",
       "      <td>In the first semester, the module theoretical ...</td>\n",
       "    </tr>\n",
       "    <tr>\n",
       "      <th>2</th>\n",
       "      <td>4870</td>\n",
       "      <td>The Master's in Applied Computer Science progr...</td>\n",
       "      <td>Three semesters:Semesters one and two: theory ...</td>\n",
       "    </tr>\n",
       "    <tr>\n",
       "      <th>3</th>\n",
       "      <td>5616</td>\n",
       "      <td>Based on their undergraduate experience the st...</td>\n",
       "      <td>The programme is organised in modules, with an...</td>\n",
       "    </tr>\n",
       "    <tr>\n",
       "      <th>4</th>\n",
       "      <td>4455</td>\n",
       "      <td>Computer Science is one of the drivers of tech...</td>\n",
       "      <td>You will choose modules from the following fiv...</td>\n",
       "    </tr>\n",
       "    <tr>\n",
       "      <th>...</th>\n",
       "      <td>...</td>\n",
       "      <td>...</td>\n",
       "      <td>...</td>\n",
       "    </tr>\n",
       "    <tr>\n",
       "      <th>137</th>\n",
       "      <td>6262</td>\n",
       "      <td>The MSc Cognitive Systems programme is a two-y...</td>\n",
       "      <td>The study programme starts off with lectures t...</td>\n",
       "    </tr>\n",
       "    <tr>\n",
       "      <th>138</th>\n",
       "      <td>4407</td>\n",
       "      <td>Medical technology is one of the main research...</td>\n",
       "      <td>Besides compulsory and elective modules with a...</td>\n",
       "    </tr>\n",
       "    <tr>\n",
       "      <th>139</th>\n",
       "      <td>9595</td>\n",
       "      <td>New digital technologies provide companies wit...</td>\n",
       "      <td>The MSc in Information Engineering programme c...</td>\n",
       "    </tr>\n",
       "    <tr>\n",
       "      <th>140</th>\n",
       "      <td>3724</td>\n",
       "      <td>Environmental information technologies such as...</td>\n",
       "      <td>The first semester takes place at the Eberswal...</td>\n",
       "    </tr>\n",
       "    <tr>\n",
       "      <th>141</th>\n",
       "      <td>6981</td>\n",
       "      <td>Our programme in Satellite Technology, chosen ...</td>\n",
       "      <td>The programme reflects the three phases of spa...</td>\n",
       "    </tr>\n",
       "  </tbody>\n",
       "</table>\n",
       "<p>142 rows × 3 columns</p>\n",
       "</div>"
      ],
      "text/plain": [
       "       id                                Description/content  \\\n",
       "0    8305  The Master's in Computer Science offers a comp...   \n",
       "1    4439  Combining the breadth of a traditional course ...   \n",
       "2    4870  The Master's in Applied Computer Science progr...   \n",
       "3    5616  Based on their undergraduate experience the st...   \n",
       "4    4455  Computer Science is one of the drivers of tech...   \n",
       "..    ...                                                ...   \n",
       "137  6262  The MSc Cognitive Systems programme is a two-y...   \n",
       "138  4407  Medical technology is one of the main research...   \n",
       "139  9595  New digital technologies provide companies wit...   \n",
       "140  3724  Environmental information technologies such as...   \n",
       "141  6981  Our programme in Satellite Technology, chosen ...   \n",
       "\n",
       "                                   Course Organisation  \n",
       "0    In the Master's programme, the schedule can be...  \n",
       "1    In the first semester, the module theoretical ...  \n",
       "2    Three semesters:Semesters one and two: theory ...  \n",
       "3    The programme is organised in modules, with an...  \n",
       "4    You will choose modules from the following fiv...  \n",
       "..                                                 ...  \n",
       "137  The study programme starts off with lectures t...  \n",
       "138  Besides compulsory and elective modules with a...  \n",
       "139  The MSc in Information Engineering programme c...  \n",
       "140  The first semester takes place at the Eberswal...  \n",
       "141  The programme reflects the three phases of spa...  \n",
       "\n",
       "[142 rows x 3 columns]"
      ]
     },
     "execution_count": 4,
     "metadata": {},
     "output_type": "execute_result"
    }
   ],
   "source": [
    "pdf"
   ]
  },
  {
   "cell_type": "code",
   "execution_count": 5,
   "metadata": {},
   "outputs": [
    {
     "data": {
      "text/plain": [
       "id                     0\n",
       "Description/content    0\n",
       "Course Organisation    0\n",
       "dtype: int64"
      ]
     },
     "execution_count": 5,
     "metadata": {},
     "output_type": "execute_result"
    }
   ],
   "source": [
    "pdf.isnull().sum()"
   ]
  },
  {
   "cell_type": "code",
   "execution_count": 6,
   "metadata": {},
   "outputs": [
    {
     "data": {
      "text/plain": [
       "0"
      ]
     },
     "execution_count": 6,
     "metadata": {},
     "output_type": "execute_result"
    }
   ],
   "source": [
    "pdf.duplicated().sum()"
   ]
  },
  {
   "cell_type": "markdown",
   "metadata": {},
   "source": [
    "# Merge both \n"
   ]
  },
  {
   "cell_type": "code",
   "execution_count": 7,
   "metadata": {},
   "outputs": [],
   "source": [
    "pdf['tags'] = pdf['Course Organisation'] + pdf['Description/content']"
   ]
  },
  {
   "cell_type": "code",
   "execution_count": 8,
   "metadata": {},
   "outputs": [
    {
     "data": {
      "text/html": [
       "<div>\n",
       "<style scoped>\n",
       "    .dataframe tbody tr th:only-of-type {\n",
       "        vertical-align: middle;\n",
       "    }\n",
       "\n",
       "    .dataframe tbody tr th {\n",
       "        vertical-align: top;\n",
       "    }\n",
       "\n",
       "    .dataframe thead th {\n",
       "        text-align: right;\n",
       "    }\n",
       "</style>\n",
       "<table border=\"1\" class=\"dataframe\">\n",
       "  <thead>\n",
       "    <tr style=\"text-align: right;\">\n",
       "      <th></th>\n",
       "      <th>id</th>\n",
       "      <th>Description/content</th>\n",
       "      <th>Course Organisation</th>\n",
       "      <th>tags</th>\n",
       "    </tr>\n",
       "  </thead>\n",
       "  <tbody>\n",
       "    <tr>\n",
       "      <th>0</th>\n",
       "      <td>8305</td>\n",
       "      <td>The Master's in Computer Science offers a comp...</td>\n",
       "      <td>In the Master's programme, the schedule can be...</td>\n",
       "      <td>In the Master's programme, the schedule can be...</td>\n",
       "    </tr>\n",
       "    <tr>\n",
       "      <th>1</th>\n",
       "      <td>4439</td>\n",
       "      <td>Combining the breadth of a traditional course ...</td>\n",
       "      <td>In the first semester, the module theoretical ...</td>\n",
       "      <td>In the first semester, the module theoretical ...</td>\n",
       "    </tr>\n",
       "    <tr>\n",
       "      <th>2</th>\n",
       "      <td>4870</td>\n",
       "      <td>The Master's in Applied Computer Science progr...</td>\n",
       "      <td>Three semesters:Semesters one and two: theory ...</td>\n",
       "      <td>Three semesters:Semesters one and two: theory ...</td>\n",
       "    </tr>\n",
       "    <tr>\n",
       "      <th>3</th>\n",
       "      <td>5616</td>\n",
       "      <td>Based on their undergraduate experience the st...</td>\n",
       "      <td>The programme is organised in modules, with an...</td>\n",
       "      <td>The programme is organised in modules, with an...</td>\n",
       "    </tr>\n",
       "    <tr>\n",
       "      <th>4</th>\n",
       "      <td>4455</td>\n",
       "      <td>Computer Science is one of the drivers of tech...</td>\n",
       "      <td>You will choose modules from the following fiv...</td>\n",
       "      <td>You will choose modules from the following fiv...</td>\n",
       "    </tr>\n",
       "  </tbody>\n",
       "</table>\n",
       "</div>"
      ],
      "text/plain": [
       "     id                                Description/content  \\\n",
       "0  8305  The Master's in Computer Science offers a comp...   \n",
       "1  4439  Combining the breadth of a traditional course ...   \n",
       "2  4870  The Master's in Applied Computer Science progr...   \n",
       "3  5616  Based on their undergraduate experience the st...   \n",
       "4  4455  Computer Science is one of the drivers of tech...   \n",
       "\n",
       "                                 Course Organisation  \\\n",
       "0  In the Master's programme, the schedule can be...   \n",
       "1  In the first semester, the module theoretical ...   \n",
       "2  Three semesters:Semesters one and two: theory ...   \n",
       "3  The programme is organised in modules, with an...   \n",
       "4  You will choose modules from the following fiv...   \n",
       "\n",
       "                                                tags  \n",
       "0  In the Master's programme, the schedule can be...  \n",
       "1  In the first semester, the module theoretical ...  \n",
       "2  Three semesters:Semesters one and two: theory ...  \n",
       "3  The programme is organised in modules, with an...  \n",
       "4  You will choose modules from the following fiv...  "
      ]
     },
     "execution_count": 8,
     "metadata": {},
     "output_type": "execute_result"
    }
   ],
   "source": [
    "pdf.head()"
   ]
  },
  {
   "cell_type": "code",
   "execution_count": 9,
   "metadata": {},
   "outputs": [
    {
     "data": {
      "text/plain": [
       "'In the Master\\'s programme, the schedule can be arranged flexibly. Students individually choose their areas of specialisation from a wide variety of subjects.Mandatory Modules:Computer ScienceComputer Science LabResearch Methods & EthicsCritical Reading and DiscussionElective Modules: Professional SkillsChoose from:Design ThinkingEntrepreneurship and InnovationLaw and ComplianceManagement and LeadershipTechnology Communication and TransferFocus AreasData and AIAlgorithms and FoundationsSystemsDigital HealthSecurity EngineeringOpen TrackMaster\\'s thesisThe Master\\'s in Computer Science offers a comprehensive and challenging education. The course content is tailor-made for students who want to take their IT expertise to a new level.Students can choose from six different tracks. This\\xa0track structure allows our students to discover the diversity of computer science while specialising in the area that excites them the most. The tracks are based on our interdisciplinary research clusters:Algorithms and FoundationsData and AIDigital HealthSecurity EngineeringSystemsIn the \"Open Track\", modules from all areas can be taken, so that Computer Science can also be studied without specialisation.In addition, special emphasis is placed on improving methodological skills at the research level. Through compulsory modules such as \"Research Methods & Ethics\" and \"Critical Reading & Discussion,\" students learn to understand and implement ethical problems in the context of scientific activities.Students at the Hasso Plattner Institute are also challenged and supported personally. Our curriculum integrates elective modules from the area of professional skills, which include courses in design thinking, entrepreneurship, and management.Graduates are equipped with comprehensive IT expertise in technical and interdisciplinary skills.'"
      ]
     },
     "execution_count": 9,
     "metadata": {},
     "output_type": "execute_result"
    }
   ],
   "source": [
    "pdf['tags'][0]"
   ]
  },
  {
   "cell_type": "code",
   "execution_count": 10,
   "metadata": {},
   "outputs": [],
   "source": [
    "df = pd.read_csv(\"../datasets/MergedData.csv\")\n",
    "df\n",
    "df.rename(columns={'Id':'id'}, inplace=True)"
   ]
  },
  {
   "cell_type": "code",
   "execution_count": 11,
   "metadata": {},
   "outputs": [],
   "source": [
    "final_df = pd.merge(pdf,df, on = 'id')"
   ]
  },
  {
   "cell_type": "code",
   "execution_count": 12,
   "metadata": {},
   "outputs": [],
   "source": [
    "Basic_Df = final_df[['id','tags','CourseNameShort','Academy']]"
   ]
  },
  {
   "cell_type": "code",
   "execution_count": 13,
   "metadata": {},
   "outputs": [
    {
     "data": {
      "text/html": [
       "<div>\n",
       "<style scoped>\n",
       "    .dataframe tbody tr th:only-of-type {\n",
       "        vertical-align: middle;\n",
       "    }\n",
       "\n",
       "    .dataframe tbody tr th {\n",
       "        vertical-align: top;\n",
       "    }\n",
       "\n",
       "    .dataframe thead th {\n",
       "        text-align: right;\n",
       "    }\n",
       "</style>\n",
       "<table border=\"1\" class=\"dataframe\">\n",
       "  <thead>\n",
       "    <tr style=\"text-align: right;\">\n",
       "      <th></th>\n",
       "      <th>id</th>\n",
       "      <th>tags</th>\n",
       "      <th>CourseNameShort</th>\n",
       "      <th>Academy</th>\n",
       "    </tr>\n",
       "  </thead>\n",
       "  <tbody>\n",
       "    <tr>\n",
       "      <th>0</th>\n",
       "      <td>8305</td>\n",
       "      <td>In the Master's programme, the schedule can be...</td>\n",
       "      <td>Computer Science</td>\n",
       "      <td>University Of Potsdam</td>\n",
       "    </tr>\n",
       "    <tr>\n",
       "      <th>1</th>\n",
       "      <td>8305</td>\n",
       "      <td>In the Master's programme, the schedule can be...</td>\n",
       "      <td>Computer Science</td>\n",
       "      <td>University Of Potsdam</td>\n",
       "    </tr>\n",
       "    <tr>\n",
       "      <th>2</th>\n",
       "      <td>8305</td>\n",
       "      <td>In the Master's programme, the schedule can be...</td>\n",
       "      <td>Computer Science</td>\n",
       "      <td>University Of Potsdam</td>\n",
       "    </tr>\n",
       "    <tr>\n",
       "      <th>3</th>\n",
       "      <td>4439</td>\n",
       "      <td>In the first semester, the module theoretical ...</td>\n",
       "      <td>Computer Science</td>\n",
       "      <td>University Of Stuttgart</td>\n",
       "    </tr>\n",
       "    <tr>\n",
       "      <th>4</th>\n",
       "      <td>4439</td>\n",
       "      <td>In the first semester, the module theoretical ...</td>\n",
       "      <td>Computer Science</td>\n",
       "      <td>University Of Stuttgart</td>\n",
       "    </tr>\n",
       "    <tr>\n",
       "      <th>...</th>\n",
       "      <td>...</td>\n",
       "      <td>...</td>\n",
       "      <td>...</td>\n",
       "      <td>...</td>\n",
       "    </tr>\n",
       "    <tr>\n",
       "      <th>637</th>\n",
       "      <td>9595</td>\n",
       "      <td>The MSc in Information Engineering programme c...</td>\n",
       "      <td>Information Engineering</td>\n",
       "      <td>Technical University Of Munich</td>\n",
       "    </tr>\n",
       "    <tr>\n",
       "      <th>638</th>\n",
       "      <td>9595</td>\n",
       "      <td>The MSc in Information Engineering programme c...</td>\n",
       "      <td>Information Engineering</td>\n",
       "      <td>Technical University Of Munich</td>\n",
       "    </tr>\n",
       "    <tr>\n",
       "      <th>639</th>\n",
       "      <td>3724</td>\n",
       "      <td>The first semester takes place at the Eberswal...</td>\n",
       "      <td>Forest Information Technology (FIT)</td>\n",
       "      <td>Eberswalde University For Sustainable Development</td>\n",
       "    </tr>\n",
       "    <tr>\n",
       "      <th>640</th>\n",
       "      <td>3724</td>\n",
       "      <td>The first semester takes place at the Eberswal...</td>\n",
       "      <td>Forest Information Technology (FIT)</td>\n",
       "      <td>Eberswalde University For Sustainable Development</td>\n",
       "    </tr>\n",
       "    <tr>\n",
       "      <th>641</th>\n",
       "      <td>6981</td>\n",
       "      <td>The programme reflects the three phases of spa...</td>\n",
       "      <td>Satellite Technology (SaTec)</td>\n",
       "      <td>Julius-Maximilians-Universität Würzburg</td>\n",
       "    </tr>\n",
       "  </tbody>\n",
       "</table>\n",
       "<p>642 rows × 4 columns</p>\n",
       "</div>"
      ],
      "text/plain": [
       "       id                                               tags  \\\n",
       "0    8305  In the Master's programme, the schedule can be...   \n",
       "1    8305  In the Master's programme, the schedule can be...   \n",
       "2    8305  In the Master's programme, the schedule can be...   \n",
       "3    4439  In the first semester, the module theoretical ...   \n",
       "4    4439  In the first semester, the module theoretical ...   \n",
       "..    ...                                                ...   \n",
       "637  9595  The MSc in Information Engineering programme c...   \n",
       "638  9595  The MSc in Information Engineering programme c...   \n",
       "639  3724  The first semester takes place at the Eberswal...   \n",
       "640  3724  The first semester takes place at the Eberswal...   \n",
       "641  6981  The programme reflects the three phases of spa...   \n",
       "\n",
       "                         CourseNameShort  \\\n",
       "0                       Computer Science   \n",
       "1                       Computer Science   \n",
       "2                       Computer Science   \n",
       "3                       Computer Science   \n",
       "4                       Computer Science   \n",
       "..                                   ...   \n",
       "637              Information Engineering   \n",
       "638              Information Engineering   \n",
       "639  Forest Information Technology (FIT)   \n",
       "640  Forest Information Technology (FIT)   \n",
       "641         Satellite Technology (SaTec)   \n",
       "\n",
       "                                               Academy  \n",
       "0                                University Of Potsdam  \n",
       "1                                University Of Potsdam  \n",
       "2                                University Of Potsdam  \n",
       "3                              University Of Stuttgart  \n",
       "4                              University Of Stuttgart  \n",
       "..                                                 ...  \n",
       "637                     Technical University Of Munich  \n",
       "638                     Technical University Of Munich  \n",
       "639  Eberswalde University For Sustainable Development  \n",
       "640  Eberswalde University For Sustainable Development  \n",
       "641            Julius-Maximilians-Universität Würzburg  \n",
       "\n",
       "[642 rows x 4 columns]"
      ]
     },
     "execution_count": 13,
     "metadata": {},
     "output_type": "execute_result"
    }
   ],
   "source": [
    "Basic_Df"
   ]
  },
  {
   "cell_type": "code",
   "execution_count": 14,
   "metadata": {},
   "outputs": [
    {
     "data": {
      "text/plain": [
       "500"
      ]
     },
     "execution_count": 14,
     "metadata": {},
     "output_type": "execute_result"
    }
   ],
   "source": [
    "Basic_Df.duplicated().sum()"
   ]
  },
  {
   "cell_type": "code",
   "execution_count": 15,
   "metadata": {},
   "outputs": [
    {
     "name": "stderr",
     "output_type": "stream",
     "text": [
      "C:\\Users\\gaura\\AppData\\Local\\Temp\\ipykernel_10104\\3448476547.py:1: SettingWithCopyWarning: \n",
      "A value is trying to be set on a copy of a slice from a DataFrame\n",
      "\n",
      "See the caveats in the documentation: https://pandas.pydata.org/pandas-docs/stable/user_guide/indexing.html#returning-a-view-versus-a-copy\n",
      "  Basic_Df.drop_duplicates(inplace=True)\n"
     ]
    }
   ],
   "source": [
    "Basic_Df.drop_duplicates(inplace=True)"
   ]
  },
  {
   "cell_type": "markdown",
   "metadata": {},
   "source": [
    "# Text Vectorization "
   ]
  },
  {
   "cell_type": "markdown",
   "metadata": {},
   "source": [
    "!pip install scikit-learn"
   ]
  },
  {
   "cell_type": "code",
   "execution_count": 16,
   "metadata": {},
   "outputs": [],
   "source": [
    "from sklearn.feature_extraction.text import CountVectorizer\n",
    "cv = CountVectorizer(max_features=5000,stop_words='english')"
   ]
  },
  {
   "cell_type": "code",
   "execution_count": 17,
   "metadata": {},
   "outputs": [],
   "source": [
    "vectors = cv.fit_transform(Basic_Df['tags']).toarray()"
   ]
  },
  {
   "cell_type": "code",
   "execution_count": 18,
   "metadata": {},
   "outputs": [
    {
     "data": {
      "text/plain": [
       "array([[0, 0, 0, ..., 0, 0, 0],\n",
       "       [0, 0, 0, ..., 0, 0, 0],\n",
       "       [0, 0, 0, ..., 0, 0, 0],\n",
       "       ...,\n",
       "       [0, 0, 0, ..., 0, 0, 0],\n",
       "       [0, 0, 0, ..., 0, 0, 0],\n",
       "       [0, 0, 0, ..., 0, 0, 0]], dtype=int64)"
      ]
     },
     "execution_count": 18,
     "metadata": {},
     "output_type": "execute_result"
    }
   ],
   "source": [
    "vectors"
   ]
  },
  {
   "cell_type": "code",
   "execution_count": 19,
   "metadata": {},
   "outputs": [
    {
     "data": {
      "text/plain": [
       "array([0, 0, 0, ..., 0, 0, 0], dtype=int64)"
      ]
     },
     "execution_count": 19,
     "metadata": {},
     "output_type": "execute_result"
    }
   ],
   "source": [
    "vectors[0]"
   ]
  },
  {
   "cell_type": "code",
   "execution_count": 20,
   "metadata": {},
   "outputs": [
    {
     "data": {
      "text/plain": [
       "array(['000', '0non', '0the', ..., 'yourmaster', 'yourscientific',\n",
       "       'zwickau'], dtype=object)"
      ]
     },
     "execution_count": 20,
     "metadata": {},
     "output_type": "execute_result"
    }
   ],
   "source": [
    "cv.get_feature_names_out()"
   ]
  },
  {
   "cell_type": "markdown",
   "metadata": {},
   "source": [
    "## NLTK "
   ]
  },
  {
   "cell_type": "markdown",
   "metadata": {},
   "source": [
    "!pip install nltk"
   ]
  },
  {
   "cell_type": "code",
   "execution_count": 21,
   "metadata": {},
   "outputs": [],
   "source": [
    "import nltk "
   ]
  },
  {
   "cell_type": "code",
   "execution_count": 22,
   "metadata": {},
   "outputs": [],
   "source": [
    "from nltk.stem.porter import PorterStemmer\n",
    "ps = PorterStemmer()"
   ]
  },
  {
   "cell_type": "code",
   "execution_count": 23,
   "metadata": {},
   "outputs": [],
   "source": [
    "def stem(text):\n",
    "    y = []\n",
    "\n",
    "    for i in text.split():\n",
    "        y.append(ps.stem(i))\n",
    "\n",
    "    return \" \".join(y)"
   ]
  },
  {
   "cell_type": "code",
   "execution_count": 24,
   "metadata": {},
   "outputs": [
    {
     "name": "stderr",
     "output_type": "stream",
     "text": [
      "C:\\Users\\gaura\\AppData\\Local\\Temp\\ipykernel_10104\\259960460.py:1: SettingWithCopyWarning: \n",
      "A value is trying to be set on a copy of a slice from a DataFrame.\n",
      "Try using .loc[row_indexer,col_indexer] = value instead\n",
      "\n",
      "See the caveats in the documentation: https://pandas.pydata.org/pandas-docs/stable/user_guide/indexing.html#returning-a-view-versus-a-copy\n",
      "  Basic_Df['tags'] = Basic_Df['tags'].apply(stem)\n"
     ]
    }
   ],
   "source": [
    "Basic_Df['tags'] = Basic_Df['tags'].apply(stem)"
   ]
  },
  {
   "cell_type": "markdown",
   "metadata": {},
   "source": [
    "# Repeat Vectorization Once again "
   ]
  },
  {
   "cell_type": "code",
   "execution_count": 25,
   "metadata": {},
   "outputs": [],
   "source": [
    "from sklearn.feature_extraction.text import CountVectorizer\n",
    "cv = CountVectorizer(max_features=5000,stop_words='english')"
   ]
  },
  {
   "cell_type": "code",
   "execution_count": 26,
   "metadata": {},
   "outputs": [],
   "source": [
    "vectors = cv.fit_transform(Basic_Df['tags']).toarray()"
   ]
  },
  {
   "cell_type": "code",
   "execution_count": 27,
   "metadata": {},
   "outputs": [
    {
     "data": {
      "text/plain": [
       "array([0, 0, 0, ..., 0, 0, 0], dtype=int64)"
      ]
     },
     "execution_count": 27,
     "metadata": {},
     "output_type": "execute_result"
    }
   ],
   "source": [
    "vectors[0]"
   ]
  },
  {
   "cell_type": "code",
   "execution_count": 28,
   "metadata": {},
   "outputs": [
    {
     "data": {
      "text/plain": [
       "array(['000', '0non', '0the', ..., 'yourmaster', 'yourscientific',\n",
       "       'zwickau'], dtype=object)"
      ]
     },
     "execution_count": 28,
     "metadata": {},
     "output_type": "execute_result"
    }
   ],
   "source": [
    "cv.get_feature_names_out()"
   ]
  },
  {
   "cell_type": "markdown",
   "metadata": {},
   "source": [
    "### Co sine distance"
   ]
  },
  {
   "cell_type": "code",
   "execution_count": 29,
   "metadata": {},
   "outputs": [],
   "source": [
    "from sklearn.metrics.pairwise import cosine_similarity"
   ]
  },
  {
   "cell_type": "code",
   "execution_count": 30,
   "metadata": {},
   "outputs": [
    {
     "data": {
      "text/plain": [
       "(142, 142)"
      ]
     },
     "execution_count": 30,
     "metadata": {},
     "output_type": "execute_result"
    }
   ],
   "source": [
    "cosine_similarity(vectors).shape"
   ]
  },
  {
   "cell_type": "code",
   "execution_count": 31,
   "metadata": {},
   "outputs": [],
   "source": [
    "similarity = cosine_similarity(vectors)\n"
   ]
  },
  {
   "cell_type": "code",
   "execution_count": 32,
   "metadata": {},
   "outputs": [
    {
     "data": {
      "text/plain": [
       "numpy.ndarray"
      ]
     },
     "execution_count": 32,
     "metadata": {},
     "output_type": "execute_result"
    }
   ],
   "source": [
    "type(similarity)"
   ]
  },
  {
   "cell_type": "code",
   "execution_count": 33,
   "metadata": {},
   "outputs": [
    {
     "data": {
      "text/plain": [
       "[(0, 1.0),\n",
       " (22, 0.4555347757702877),\n",
       " (5, 0.4358936772164252),\n",
       " (8, 0.43464342883147966),\n",
       " (24, 0.43017207307923444),\n",
       " (3, 0.42508156776537165),\n",
       " (10, 0.4243459418190091),\n",
       " (9, 0.4162747405813562),\n",
       " (126, 0.4155495499102746),\n",
       " (34, 0.4014057314990032),\n",
       " (11, 0.39213455619214155),\n",
       " (14, 0.3804371616993746),\n",
       " (117, 0.37398178954605743),\n",
       " (35, 0.37271413032215434),\n",
       " (1, 0.3719688824533881)]"
      ]
     },
     "execution_count": 33,
     "metadata": {},
     "output_type": "execute_result"
    }
   ],
   "source": [
    "sorted(list(enumerate(similarity[0])),reverse=True,key = lambda x:x[1])[0:15]"
   ]
  },
  {
   "cell_type": "code",
   "execution_count": 34,
   "metadata": {},
   "outputs": [],
   "source": [
    "Basic_Df\n",
    "Basic_Df.reset_index(drop=True, inplace=True)\n"
   ]
  },
  {
   "cell_type": "code",
   "execution_count": 35,
   "metadata": {},
   "outputs": [
    {
     "data": {
      "text/html": [
       "<div>\n",
       "<style scoped>\n",
       "    .dataframe tbody tr th:only-of-type {\n",
       "        vertical-align: middle;\n",
       "    }\n",
       "\n",
       "    .dataframe tbody tr th {\n",
       "        vertical-align: top;\n",
       "    }\n",
       "\n",
       "    .dataframe thead th {\n",
       "        text-align: right;\n",
       "    }\n",
       "</style>\n",
       "<table border=\"1\" class=\"dataframe\">\n",
       "  <thead>\n",
       "    <tr style=\"text-align: right;\">\n",
       "      <th></th>\n",
       "      <th>id</th>\n",
       "      <th>tags</th>\n",
       "      <th>CourseNameShort</th>\n",
       "      <th>Academy</th>\n",
       "    </tr>\n",
       "  </thead>\n",
       "  <tbody>\n",
       "    <tr>\n",
       "      <th>0</th>\n",
       "      <td>8305</td>\n",
       "      <td>in the master' programme, the schedul can be a...</td>\n",
       "      <td>Computer Science</td>\n",
       "      <td>University Of Potsdam</td>\n",
       "    </tr>\n",
       "    <tr>\n",
       "      <th>1</th>\n",
       "      <td>4439</td>\n",
       "      <td>in the first semester, the modul theoret and m...</td>\n",
       "      <td>Computer Science</td>\n",
       "      <td>University Of Stuttgart</td>\n",
       "    </tr>\n",
       "    <tr>\n",
       "      <th>2</th>\n",
       "      <td>4870</td>\n",
       "      <td>three semesters:semest one and two: theori and...</td>\n",
       "      <td>MSc Applied Computer Science</td>\n",
       "      <td>Deggendorf Institute Of Technology</td>\n",
       "    </tr>\n",
       "    <tr>\n",
       "      <th>3</th>\n",
       "      <td>5616</td>\n",
       "      <td>the programm is organis in modules, with an ov...</td>\n",
       "      <td>Master Of Science In Computer Science</td>\n",
       "      <td>Paderborn University</td>\n",
       "    </tr>\n",
       "    <tr>\n",
       "      <th>4</th>\n",
       "      <td>4455</td>\n",
       "      <td>you will choos modul from the follow five subj...</td>\n",
       "      <td>MSc Computer Science</td>\n",
       "      <td>University Of Passau</td>\n",
       "    </tr>\n",
       "    <tr>\n",
       "      <th>...</th>\n",
       "      <td>...</td>\n",
       "      <td>...</td>\n",
       "      <td>...</td>\n",
       "      <td>...</td>\n",
       "    </tr>\n",
       "    <tr>\n",
       "      <th>137</th>\n",
       "      <td>6262</td>\n",
       "      <td>the studi programm start off with lectur that ...</td>\n",
       "      <td>Cognitive Systems: Language, Learning, And Rea...</td>\n",
       "      <td>University Of Potsdam</td>\n",
       "    </tr>\n",
       "    <tr>\n",
       "      <th>138</th>\n",
       "      <td>4407</td>\n",
       "      <td>besid compulsori and elect modul with advanc t...</td>\n",
       "      <td>Medical Engineering: Imaging, Health &amp; Data An...</td>\n",
       "      <td>FAU Erlangen-Nürnberg</td>\n",
       "    </tr>\n",
       "    <tr>\n",
       "      <th>139</th>\n",
       "      <td>9595</td>\n",
       "      <td>the msc in inform engin programm consist of co...</td>\n",
       "      <td>Information Engineering</td>\n",
       "      <td>Technical University Of Munich</td>\n",
       "    </tr>\n",
       "    <tr>\n",
       "      <th>140</th>\n",
       "      <td>3724</td>\n",
       "      <td>the first semest take place at the eberswald u...</td>\n",
       "      <td>Forest Information Technology (FIT)</td>\n",
       "      <td>Eberswalde University For Sustainable Development</td>\n",
       "    </tr>\n",
       "    <tr>\n",
       "      <th>141</th>\n",
       "      <td>6981</td>\n",
       "      <td>the programm reflect the three phase of space ...</td>\n",
       "      <td>Satellite Technology (SaTec)</td>\n",
       "      <td>Julius-Maximilians-Universität Würzburg</td>\n",
       "    </tr>\n",
       "  </tbody>\n",
       "</table>\n",
       "<p>142 rows × 4 columns</p>\n",
       "</div>"
      ],
      "text/plain": [
       "       id                                               tags  \\\n",
       "0    8305  in the master' programme, the schedul can be a...   \n",
       "1    4439  in the first semester, the modul theoret and m...   \n",
       "2    4870  three semesters:semest one and two: theori and...   \n",
       "3    5616  the programm is organis in modules, with an ov...   \n",
       "4    4455  you will choos modul from the follow five subj...   \n",
       "..    ...                                                ...   \n",
       "137  6262  the studi programm start off with lectur that ...   \n",
       "138  4407  besid compulsori and elect modul with advanc t...   \n",
       "139  9595  the msc in inform engin programm consist of co...   \n",
       "140  3724  the first semest take place at the eberswald u...   \n",
       "141  6981  the programm reflect the three phase of space ...   \n",
       "\n",
       "                                       CourseNameShort  \\\n",
       "0                                     Computer Science   \n",
       "1                                     Computer Science   \n",
       "2                         MSc Applied Computer Science   \n",
       "3                Master Of Science In Computer Science   \n",
       "4                                 MSc Computer Science   \n",
       "..                                                 ...   \n",
       "137  Cognitive Systems: Language, Learning, And Rea...   \n",
       "138  Medical Engineering: Imaging, Health & Data An...   \n",
       "139                            Information Engineering   \n",
       "140                Forest Information Technology (FIT)   \n",
       "141                       Satellite Technology (SaTec)   \n",
       "\n",
       "                                               Academy  \n",
       "0                                University Of Potsdam  \n",
       "1                              University Of Stuttgart  \n",
       "2                   Deggendorf Institute Of Technology  \n",
       "3                                 Paderborn University  \n",
       "4                                 University Of Passau  \n",
       "..                                                 ...  \n",
       "137                              University Of Potsdam  \n",
       "138                              FAU Erlangen-Nürnberg  \n",
       "139                     Technical University Of Munich  \n",
       "140  Eberswalde University For Sustainable Development  \n",
       "141            Julius-Maximilians-Universität Würzburg  \n",
       "\n",
       "[142 rows x 4 columns]"
      ]
     },
     "execution_count": 35,
     "metadata": {},
     "output_type": "execute_result"
    }
   ],
   "source": [
    "Basic_Df"
   ]
  },
  {
   "cell_type": "code",
   "execution_count": 36,
   "metadata": {},
   "outputs": [
    {
     "data": {
      "text/html": [
       "<div>\n",
       "<style scoped>\n",
       "    .dataframe tbody tr th:only-of-type {\n",
       "        vertical-align: middle;\n",
       "    }\n",
       "\n",
       "    .dataframe tbody tr th {\n",
       "        vertical-align: top;\n",
       "    }\n",
       "\n",
       "    .dataframe thead th {\n",
       "        text-align: right;\n",
       "    }\n",
       "</style>\n",
       "<table border=\"1\" class=\"dataframe\">\n",
       "  <thead>\n",
       "    <tr style=\"text-align: right;\">\n",
       "      <th></th>\n",
       "      <th>id</th>\n",
       "      <th>tags</th>\n",
       "      <th>CourseNameShort</th>\n",
       "      <th>Academy</th>\n",
       "    </tr>\n",
       "  </thead>\n",
       "  <tbody>\n",
       "    <tr>\n",
       "      <th>1</th>\n",
       "      <td>4439</td>\n",
       "      <td>in the first semester, the modul theoret and m...</td>\n",
       "      <td>Computer Science</td>\n",
       "      <td>University Of Stuttgart</td>\n",
       "    </tr>\n",
       "  </tbody>\n",
       "</table>\n",
       "</div>"
      ],
      "text/plain": [
       "     id                                               tags   CourseNameShort  \\\n",
       "1  4439  in the first semester, the modul theoret and m...  Computer Science   \n",
       "\n",
       "                   Academy  \n",
       "1  University Of Stuttgart  "
      ]
     },
     "execution_count": 36,
     "metadata": {},
     "output_type": "execute_result"
    }
   ],
   "source": [
    "Basic_Df[(Basic_Df['Academy'] == 'University Of Stuttgart') & (Basic_Df['CourseNameShort'] == 'Computer Science')]"
   ]
  },
  {
   "cell_type": "code",
   "execution_count": 37,
   "metadata": {},
   "outputs": [
    {
     "data": {
      "text/plain": [
       "1"
      ]
     },
     "execution_count": 37,
     "metadata": {},
     "output_type": "execute_result"
    }
   ],
   "source": [
    "Basic_Df[(Basic_Df['Academy'] == 'University Of Stuttgart') & (Basic_Df['CourseNameShort'] == 'Computer Science')].index[0]"
   ]
  },
  {
   "cell_type": "code",
   "execution_count": 44,
   "metadata": {},
   "outputs": [],
   "source": [
    "def recommend(uni, course_name):\n",
    "    uni_index = Basic_Df[(Basic_Df['Academy'] == uni) & (Basic_Df['CourseNameShort'] == course_name)].index[0]\n",
    "    distances = similarity[uni_index]\n",
    "    uni_list = sorted(list(enumerate(distances)), reverse=True, key=lambda x: x[1])[1:15]\n",
    "    print(f\"{'ID':<10} {'Course Name':<70} {'Academy':<70} {'Similarity (%)':<20}\")\n",
    "    print(\"-\" * 160)\n",
    "    \n",
    "    for i in uni_list:\n",
    "        course_id = Basic_Df.iloc[i[0]].id\n",
    "        course_name_short = Basic_Df.iloc[i[0]].CourseNameShort\n",
    "        academy = Basic_Df.iloc[i[0]].Academy\n",
    "        similarity_percentage = round(i[1] * 100, 2)  \n",
    "        \n",
    "    \n",
    "        print(f\"{course_id:<10} {course_name_short:<70} {academy:<70} {similarity_percentage:<20.2f}\")\n"
   ]
  },
  {
   "cell_type": "code",
   "execution_count": 45,
   "metadata": {},
   "outputs": [
    {
     "name": "stdout",
     "output_type": "stream",
     "text": [
      "ID         Course Name                                                            Academy                                                                Similarity (%)      \n",
      "----------------------------------------------------------------------------------------------------------------------------------------------------------------\n",
      "4238       Computer Science For Digital Media                                     Bauhaus-Universität Weimar                                             61.13               \n",
      "3727       Computational Engineering (CE), MSc                                    FAU Erlangen-Nürnberg                                                  54.96               \n",
      "5245       Computer Science (MSc)                                                 University Of Bayreuth                                                 54.58               \n",
      "3728       Media Informatics                                                      RWTH Aachen University                                                 53.28               \n",
      "7657       Artificial Intelligence (AI), MSc                                      FAU Erlangen-Nürnberg                                                  53.11               \n",
      "4439       Computer Science                                                       University Of Stuttgart                                                53.10               \n",
      "4686       Human Computer Interaction (HCI)                                       University Of Siegen                                                   52.18               \n",
      "5616       Master Of Science In Computer Science                                  Paderborn University                                                   52.08               \n",
      "3736       MSc Computer Science                                                   University Of Freiburg                                                 51.87               \n",
      "3629       Computer Science (Master Of Science)                                   RPTU University Of Kaiserslautern-Landau                               51.80               \n",
      "4870       MSc Applied Computer Science                                           Deggendorf Institute Of Technology                                     51.59               \n",
      "4879       Master'S In Digital Transformation (MDT)                               Dortmund University Of Applied Sciences And Arts                       51.56               \n",
      "4249       Computer And Information Science (MSc)                                 University Of Konstanz                                                 51.48               \n",
      "9673       Computer Science MSc                                                   Ruhr-Universität Bochum                                                51.13               \n"
     ]
    }
   ],
   "source": [
    "# recommend('Deggendorf Institute Of Technology')\n",
    "# recommend('University Of Stuttgart', 'Computer Science')\n",
    "recommend('Bauhaus-Universität Weimar', 'Human-Computer Interaction (HCI)')"
   ]
  },
  {
   "cell_type": "markdown",
   "metadata": {},
   "source": [
    "# TFID"
   ]
  },
  {
   "cell_type": "code",
   "execution_count": 46,
   "metadata": {},
   "outputs": [],
   "source": [
    "from sklearn.feature_extraction.text import TfidfVectorizer\n",
    "from sklearn.metrics.pairwise import cosine_similarity\n",
    "\n",
    "tfidf = TfidfVectorizer(max_features=5000, stop_words='english')\n",
    "vectors_tfidf = tfidf.fit_transform(Basic_Df['tags']).toarray()\n",
    "\n",
    "similarity_tfidf = cosine_similarity(vectors_tfidf)\n",
    "\n",
    "def recommend_tfid(uni, course_name):\n",
    "    uni_index = Basic_Df[(Basic_Df['Academy'] == uni) & (Basic_Df['CourseNameShort'] == course_name)].index[0]\n",
    "    \n",
    "    distances = similarity_tfidf[uni_index]\n",
    "    \n",
    "    uni_list = sorted(list(enumerate(distances)), reverse=True, key=lambda x: x[1])[1:15]\n",
    "    \n",
    "    print(f\"{'ID':<10} {'Course Name':<70} {'Academy':<70} {'Similarity (%)':<20}\")\n",
    "    print(\"-\" * 160)\n",
    "    \n",
    "    for i in uni_list:\n",
    "        course_id = Basic_Df.iloc[i[0]].id\n",
    "        course_name_short = Basic_Df.iloc[i[0]].CourseNameShort\n",
    "        academy = Basic_Df.iloc[i[0]].Academy\n",
    "        similarity_percentage = round(i[1] * 100, 2)  \n",
    "        \n",
    "        print(f\"{course_id:<10} {course_name_short:<70} {academy:<70} {similarity_percentage:<20.2f}\")\n"
   ]
  },
  {
   "cell_type": "code",
   "execution_count": 47,
   "metadata": {},
   "outputs": [
    {
     "name": "stdout",
     "output_type": "stream",
     "text": [
      "ID         Course Name                                                            Academy                                                                Similarity (%)      \n",
      "----------------------------------------------------------------------------------------------------------------------------------------------------------------\n",
      "4686       Human Computer Interaction (HCI)                                       University Of Siegen                                                   41.66               \n",
      "4238       Computer Science For Digital Media                                     Bauhaus-Universität Weimar                                             32.30               \n",
      "7040       Engineering Of Socio-Technical Systems                                 Carl Von Ossietzky University Of Oldenburg                             28.22               \n",
      "4521       MSc In International Software Systems Science                          University Of Bamberg                                                  27.85               \n",
      "4249       Computer And Information Science (MSc)                                 University Of Konstanz                                                 27.58               \n",
      "6140       User Experience Design                                                 Technische Hochschule Ingolstadt                                       27.45               \n",
      "4634       Media Informatics (MSc)                                                Saarland University                                                    26.88               \n",
      "9042       Computer Science (MSc)                                                 Philipps-Universität Marburg                                           26.15               \n",
      "7657       Artificial Intelligence (AI), MSc                                      FAU Erlangen-Nürnberg                                                  25.88               \n",
      "4591       Computer Science                                                       University Of Siegen                                                   25.39               \n",
      "3727       Computational Engineering (CE), MSc                                    FAU Erlangen-Nürnberg                                                  25.29               \n",
      "5616       Master Of Science In Computer Science                                  Paderborn University                                                   24.30               \n",
      "5245       Computer Science (MSc)                                                 University Of Bayreuth                                                 24.25               \n",
      "3728       Media Informatics                                                      RWTH Aachen University                                                 23.77               \n"
     ]
    }
   ],
   "source": [
    "# recommend_tfid('University Of Stuttgart', 'Computer Science')\n",
    "recommend_tfid('Bauhaus-Universität Weimar', 'Human-Computer Interaction (HCI)')"
   ]
  },
  {
   "cell_type": "markdown",
   "metadata": {},
   "source": [
    "# For Frontend \n"
   ]
  },
  {
   "cell_type": "code",
   "execution_count": null,
   "metadata": {},
   "outputs": [],
   "source": [
    "import pickle"
   ]
  },
  {
   "cell_type": "code",
   "execution_count": null,
   "metadata": {},
   "outputs": [],
   "source": [
    "pickle.dump(Basic_Df,open('../frontend/university_df.pkl','wb'))\n",
    "pickle.dump(similarity,open('../frontend/similarity.pkl','wb'))"
   ]
  },
  {
   "cell_type": "code",
   "execution_count": null,
   "metadata": {},
   "outputs": [],
   "source": [
    "pickle.dump(Basic_Df.to_dict() ,open('university_dict.pkl','wb'))\n"
   ]
  }
 ],
 "metadata": {
  "kernelspec": {
   "display_name": "AI_Project",
   "language": "python",
   "name": "python3"
  },
  "language_info": {
   "codemirror_mode": {
    "name": "ipython",
    "version": 3
   },
   "file_extension": ".py",
   "mimetype": "text/x-python",
   "name": "python",
   "nbconvert_exporter": "python",
   "pygments_lexer": "ipython3",
   "version": "3.9.20"
  }
 },
 "nbformat": 4,
 "nbformat_minor": 2
}
