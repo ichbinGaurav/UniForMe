{
 "cells": [
  {
   "cell_type": "code",
   "execution_count": 1,
   "metadata": {},
   "outputs": [],
   "source": [
    "import pandas as pd\n",
    "import numpy as np "
   ]
  },
  {
   "cell_type": "code",
   "execution_count": 2,
   "metadata": {},
   "outputs": [],
   "source": [
    "import json "
   ]
  },
  {
   "cell_type": "code",
   "execution_count": 3,
   "metadata": {},
   "outputs": [],
   "source": [
    "\n",
    "json_path = '../datasets/program_details.json'\n",
    "\n",
    "with open(json_path, 'r', encoding=\"utf8\") as file:\n",
    "    program_details = json.load(file)\n",
    "\n",
    "valid_program_details = [\n",
    "    entry for entry in program_details if entry is not None and isinstance(entry, dict)\n",
    "]\n",
    "\n",
    "pdf = pd.DataFrame(valid_program_details)\n",
    "\n",
    "\n"
   ]
  },
  {
   "cell_type": "code",
   "execution_count": 4,
   "metadata": {},
   "outputs": [
    {
     "data": {
      "text/html": [
       "<div>\n",
       "<style scoped>\n",
       "    .dataframe tbody tr th:only-of-type {\n",
       "        vertical-align: middle;\n",
       "    }\n",
       "\n",
       "    .dataframe tbody tr th {\n",
       "        vertical-align: top;\n",
       "    }\n",
       "\n",
       "    .dataframe thead th {\n",
       "        text-align: right;\n",
       "    }\n",
       "</style>\n",
       "<table border=\"1\" class=\"dataframe\">\n",
       "  <thead>\n",
       "    <tr style=\"text-align: right;\">\n",
       "      <th></th>\n",
       "      <th>id</th>\n",
       "      <th>Description/content</th>\n",
       "      <th>Course Organisation</th>\n",
       "    </tr>\n",
       "  </thead>\n",
       "  <tbody>\n",
       "    <tr>\n",
       "      <th>0</th>\n",
       "      <td>8305</td>\n",
       "      <td>The Master's in Computer Science offers a comp...</td>\n",
       "      <td>In the Master's programme, the schedule can be...</td>\n",
       "    </tr>\n",
       "    <tr>\n",
       "      <th>1</th>\n",
       "      <td>4439</td>\n",
       "      <td>Combining the breadth of a traditional course ...</td>\n",
       "      <td>In the first semester, the module theoretical ...</td>\n",
       "    </tr>\n",
       "    <tr>\n",
       "      <th>2</th>\n",
       "      <td>4870</td>\n",
       "      <td>The Master's in Applied Computer Science progr...</td>\n",
       "      <td>Three semesters:Semesters one and two: theory ...</td>\n",
       "    </tr>\n",
       "    <tr>\n",
       "      <th>3</th>\n",
       "      <td>5616</td>\n",
       "      <td>Based on their undergraduate experience the st...</td>\n",
       "      <td>The programme is organised in modules, with an...</td>\n",
       "    </tr>\n",
       "    <tr>\n",
       "      <th>4</th>\n",
       "      <td>4455</td>\n",
       "      <td>Computer Science is one of the drivers of tech...</td>\n",
       "      <td>You will choose modules from the following fiv...</td>\n",
       "    </tr>\n",
       "    <tr>\n",
       "      <th>...</th>\n",
       "      <td>...</td>\n",
       "      <td>...</td>\n",
       "      <td>...</td>\n",
       "    </tr>\n",
       "    <tr>\n",
       "      <th>137</th>\n",
       "      <td>6262</td>\n",
       "      <td>The MSc Cognitive Systems programme is a two-y...</td>\n",
       "      <td>The study programme starts off with lectures t...</td>\n",
       "    </tr>\n",
       "    <tr>\n",
       "      <th>138</th>\n",
       "      <td>4407</td>\n",
       "      <td>Medical technology is one of the main research...</td>\n",
       "      <td>Besides compulsory and elective modules with a...</td>\n",
       "    </tr>\n",
       "    <tr>\n",
       "      <th>139</th>\n",
       "      <td>9595</td>\n",
       "      <td>New digital technologies provide companies wit...</td>\n",
       "      <td>The MSc in Information Engineering programme c...</td>\n",
       "    </tr>\n",
       "    <tr>\n",
       "      <th>140</th>\n",
       "      <td>3724</td>\n",
       "      <td>Environmental information technologies such as...</td>\n",
       "      <td>The first semester takes place at the Eberswal...</td>\n",
       "    </tr>\n",
       "    <tr>\n",
       "      <th>141</th>\n",
       "      <td>6981</td>\n",
       "      <td>Our programme in Satellite Technology, chosen ...</td>\n",
       "      <td>The programme reflects the three phases of spa...</td>\n",
       "    </tr>\n",
       "  </tbody>\n",
       "</table>\n",
       "<p>142 rows × 3 columns</p>\n",
       "</div>"
      ],
      "text/plain": [
       "       id                                Description/content  \\\n",
       "0    8305  The Master's in Computer Science offers a comp...   \n",
       "1    4439  Combining the breadth of a traditional course ...   \n",
       "2    4870  The Master's in Applied Computer Science progr...   \n",
       "3    5616  Based on their undergraduate experience the st...   \n",
       "4    4455  Computer Science is one of the drivers of tech...   \n",
       "..    ...                                                ...   \n",
       "137  6262  The MSc Cognitive Systems programme is a two-y...   \n",
       "138  4407  Medical technology is one of the main research...   \n",
       "139  9595  New digital technologies provide companies wit...   \n",
       "140  3724  Environmental information technologies such as...   \n",
       "141  6981  Our programme in Satellite Technology, chosen ...   \n",
       "\n",
       "                                   Course Organisation  \n",
       "0    In the Master's programme, the schedule can be...  \n",
       "1    In the first semester, the module theoretical ...  \n",
       "2    Three semesters:Semesters one and two: theory ...  \n",
       "3    The programme is organised in modules, with an...  \n",
       "4    You will choose modules from the following fiv...  \n",
       "..                                                 ...  \n",
       "137  The study programme starts off with lectures t...  \n",
       "138  Besides compulsory and elective modules with a...  \n",
       "139  The MSc in Information Engineering programme c...  \n",
       "140  The first semester takes place at the Eberswal...  \n",
       "141  The programme reflects the three phases of spa...  \n",
       "\n",
       "[142 rows x 3 columns]"
      ]
     },
     "execution_count": 4,
     "metadata": {},
     "output_type": "execute_result"
    }
   ],
   "source": [
    "pdf"
   ]
  },
  {
   "cell_type": "code",
   "execution_count": 5,
   "metadata": {},
   "outputs": [
    {
     "data": {
      "text/plain": [
       "id                     0\n",
       "Description/content    0\n",
       "Course Organisation    0\n",
       "dtype: int64"
      ]
     },
     "execution_count": 5,
     "metadata": {},
     "output_type": "execute_result"
    }
   ],
   "source": [
    "pdf.isnull().sum()"
   ]
  },
  {
   "cell_type": "code",
   "execution_count": 6,
   "metadata": {},
   "outputs": [
    {
     "data": {
      "text/plain": [
       "0"
      ]
     },
     "execution_count": 6,
     "metadata": {},
     "output_type": "execute_result"
    }
   ],
   "source": [
    "pdf.duplicated().sum()"
   ]
  },
  {
   "cell_type": "markdown",
   "metadata": {},
   "source": [
    "# Merge both \n"
   ]
  },
  {
   "cell_type": "code",
   "execution_count": 7,
   "metadata": {},
   "outputs": [],
   "source": [
    "pdf['tags'] = pdf['Course Organisation'] + pdf['Description/content']"
   ]
  },
  {
   "cell_type": "code",
   "execution_count": 8,
   "metadata": {},
   "outputs": [
    {
     "data": {
      "text/html": [
       "<div>\n",
       "<style scoped>\n",
       "    .dataframe tbody tr th:only-of-type {\n",
       "        vertical-align: middle;\n",
       "    }\n",
       "\n",
       "    .dataframe tbody tr th {\n",
       "        vertical-align: top;\n",
       "    }\n",
       "\n",
       "    .dataframe thead th {\n",
       "        text-align: right;\n",
       "    }\n",
       "</style>\n",
       "<table border=\"1\" class=\"dataframe\">\n",
       "  <thead>\n",
       "    <tr style=\"text-align: right;\">\n",
       "      <th></th>\n",
       "      <th>id</th>\n",
       "      <th>Description/content</th>\n",
       "      <th>Course Organisation</th>\n",
       "      <th>tags</th>\n",
       "    </tr>\n",
       "  </thead>\n",
       "  <tbody>\n",
       "    <tr>\n",
       "      <th>0</th>\n",
       "      <td>8305</td>\n",
       "      <td>The Master's in Computer Science offers a comp...</td>\n",
       "      <td>In the Master's programme, the schedule can be...</td>\n",
       "      <td>In the Master's programme, the schedule can be...</td>\n",
       "    </tr>\n",
       "    <tr>\n",
       "      <th>1</th>\n",
       "      <td>4439</td>\n",
       "      <td>Combining the breadth of a traditional course ...</td>\n",
       "      <td>In the first semester, the module theoretical ...</td>\n",
       "      <td>In the first semester, the module theoretical ...</td>\n",
       "    </tr>\n",
       "    <tr>\n",
       "      <th>2</th>\n",
       "      <td>4870</td>\n",
       "      <td>The Master's in Applied Computer Science progr...</td>\n",
       "      <td>Three semesters:Semesters one and two: theory ...</td>\n",
       "      <td>Three semesters:Semesters one and two: theory ...</td>\n",
       "    </tr>\n",
       "    <tr>\n",
       "      <th>3</th>\n",
       "      <td>5616</td>\n",
       "      <td>Based on their undergraduate experience the st...</td>\n",
       "      <td>The programme is organised in modules, with an...</td>\n",
       "      <td>The programme is organised in modules, with an...</td>\n",
       "    </tr>\n",
       "    <tr>\n",
       "      <th>4</th>\n",
       "      <td>4455</td>\n",
       "      <td>Computer Science is one of the drivers of tech...</td>\n",
       "      <td>You will choose modules from the following fiv...</td>\n",
       "      <td>You will choose modules from the following fiv...</td>\n",
       "    </tr>\n",
       "  </tbody>\n",
       "</table>\n",
       "</div>"
      ],
      "text/plain": [
       "     id                                Description/content  \\\n",
       "0  8305  The Master's in Computer Science offers a comp...   \n",
       "1  4439  Combining the breadth of a traditional course ...   \n",
       "2  4870  The Master's in Applied Computer Science progr...   \n",
       "3  5616  Based on their undergraduate experience the st...   \n",
       "4  4455  Computer Science is one of the drivers of tech...   \n",
       "\n",
       "                                 Course Organisation  \\\n",
       "0  In the Master's programme, the schedule can be...   \n",
       "1  In the first semester, the module theoretical ...   \n",
       "2  Three semesters:Semesters one and two: theory ...   \n",
       "3  The programme is organised in modules, with an...   \n",
       "4  You will choose modules from the following fiv...   \n",
       "\n",
       "                                                tags  \n",
       "0  In the Master's programme, the schedule can be...  \n",
       "1  In the first semester, the module theoretical ...  \n",
       "2  Three semesters:Semesters one and two: theory ...  \n",
       "3  The programme is organised in modules, with an...  \n",
       "4  You will choose modules from the following fiv...  "
      ]
     },
     "execution_count": 8,
     "metadata": {},
     "output_type": "execute_result"
    }
   ],
   "source": [
    "pdf.head()"
   ]
  },
  {
   "cell_type": "code",
   "execution_count": 9,
   "metadata": {},
   "outputs": [
    {
     "data": {
      "text/plain": [
       "'In the Master\\'s programme, the schedule can be arranged flexibly. Students individually choose their areas of specialisation from a wide variety of subjects.Mandatory Modules:Computer ScienceComputer Science LabResearch Methods & EthicsCritical Reading and DiscussionElective Modules: Professional SkillsChoose from:Design ThinkingEntrepreneurship and InnovationLaw and ComplianceManagement and LeadershipTechnology Communication and TransferFocus AreasData and AIAlgorithms and FoundationsSystemsDigital HealthSecurity EngineeringOpen TrackMaster\\'s thesisThe Master\\'s in Computer Science offers a comprehensive and challenging education. The course content is tailor-made for students who want to take their IT expertise to a new level.Students can choose from six different tracks. This\\xa0track structure allows our students to discover the diversity of computer science while specialising in the area that excites them the most. The tracks are based on our interdisciplinary research clusters:Algorithms and FoundationsData and AIDigital HealthSecurity EngineeringSystemsIn the \"Open Track\", modules from all areas can be taken, so that Computer Science can also be studied without specialisation.In addition, special emphasis is placed on improving methodological skills at the research level. Through compulsory modules such as \"Research Methods & Ethics\" and \"Critical Reading & Discussion,\" students learn to understand and implement ethical problems in the context of scientific activities.Students at the Hasso Plattner Institute are also challenged and supported personally. Our curriculum integrates elective modules from the area of professional skills, which include courses in design thinking, entrepreneurship, and management.Graduates are equipped with comprehensive IT expertise in technical and interdisciplinary skills.'"
      ]
     },
     "execution_count": 9,
     "metadata": {},
     "output_type": "execute_result"
    }
   ],
   "source": [
    "pdf['tags'][0]"
   ]
  },
  {
   "cell_type": "code",
   "execution_count": 10,
   "metadata": {},
   "outputs": [],
   "source": [
    "df = pd.read_csv(\"../datasets/MergedData.csv\")\n",
    "df\n",
    "df.rename(columns={'Id':'id'}, inplace=True)"
   ]
  },
  {
   "cell_type": "code",
   "execution_count": 11,
   "metadata": {},
   "outputs": [],
   "source": [
    "final_df = pd.merge(pdf,df, on = 'id')"
   ]
  },
  {
   "cell_type": "code",
   "execution_count": 12,
   "metadata": {},
   "outputs": [],
   "source": [
    "Basic_Df = final_df[['id','tags','CourseNameShort','Academy']]"
   ]
  },
  {
   "cell_type": "code",
   "execution_count": 13,
   "metadata": {},
   "outputs": [
    {
     "data": {
      "text/html": [
       "<div>\n",
       "<style scoped>\n",
       "    .dataframe tbody tr th:only-of-type {\n",
       "        vertical-align: middle;\n",
       "    }\n",
       "\n",
       "    .dataframe tbody tr th {\n",
       "        vertical-align: top;\n",
       "    }\n",
       "\n",
       "    .dataframe thead th {\n",
       "        text-align: right;\n",
       "    }\n",
       "</style>\n",
       "<table border=\"1\" class=\"dataframe\">\n",
       "  <thead>\n",
       "    <tr style=\"text-align: right;\">\n",
       "      <th></th>\n",
       "      <th>id</th>\n",
       "      <th>tags</th>\n",
       "      <th>CourseNameShort</th>\n",
       "      <th>Academy</th>\n",
       "    </tr>\n",
       "  </thead>\n",
       "  <tbody>\n",
       "    <tr>\n",
       "      <th>0</th>\n",
       "      <td>8305</td>\n",
       "      <td>In the Master's programme, the schedule can be...</td>\n",
       "      <td>Computer Science</td>\n",
       "      <td>University Of Potsdam</td>\n",
       "    </tr>\n",
       "    <tr>\n",
       "      <th>1</th>\n",
       "      <td>8305</td>\n",
       "      <td>In the Master's programme, the schedule can be...</td>\n",
       "      <td>Computer Science</td>\n",
       "      <td>University Of Potsdam</td>\n",
       "    </tr>\n",
       "    <tr>\n",
       "      <th>2</th>\n",
       "      <td>8305</td>\n",
       "      <td>In the Master's programme, the schedule can be...</td>\n",
       "      <td>Computer Science</td>\n",
       "      <td>University Of Potsdam</td>\n",
       "    </tr>\n",
       "    <tr>\n",
       "      <th>3</th>\n",
       "      <td>4439</td>\n",
       "      <td>In the first semester, the module theoretical ...</td>\n",
       "      <td>Computer Science</td>\n",
       "      <td>University Of Stuttgart</td>\n",
       "    </tr>\n",
       "    <tr>\n",
       "      <th>4</th>\n",
       "      <td>4439</td>\n",
       "      <td>In the first semester, the module theoretical ...</td>\n",
       "      <td>Computer Science</td>\n",
       "      <td>University Of Stuttgart</td>\n",
       "    </tr>\n",
       "    <tr>\n",
       "      <th>...</th>\n",
       "      <td>...</td>\n",
       "      <td>...</td>\n",
       "      <td>...</td>\n",
       "      <td>...</td>\n",
       "    </tr>\n",
       "    <tr>\n",
       "      <th>637</th>\n",
       "      <td>9595</td>\n",
       "      <td>The MSc in Information Engineering programme c...</td>\n",
       "      <td>Information Engineering</td>\n",
       "      <td>Technical University Of Munich</td>\n",
       "    </tr>\n",
       "    <tr>\n",
       "      <th>638</th>\n",
       "      <td>9595</td>\n",
       "      <td>The MSc in Information Engineering programme c...</td>\n",
       "      <td>Information Engineering</td>\n",
       "      <td>Technical University Of Munich</td>\n",
       "    </tr>\n",
       "    <tr>\n",
       "      <th>639</th>\n",
       "      <td>3724</td>\n",
       "      <td>The first semester takes place at the Eberswal...</td>\n",
       "      <td>Forest Information Technology (FIT)</td>\n",
       "      <td>Eberswalde University For Sustainable Development</td>\n",
       "    </tr>\n",
       "    <tr>\n",
       "      <th>640</th>\n",
       "      <td>3724</td>\n",
       "      <td>The first semester takes place at the Eberswal...</td>\n",
       "      <td>Forest Information Technology (FIT)</td>\n",
       "      <td>Eberswalde University For Sustainable Development</td>\n",
       "    </tr>\n",
       "    <tr>\n",
       "      <th>641</th>\n",
       "      <td>6981</td>\n",
       "      <td>The programme reflects the three phases of spa...</td>\n",
       "      <td>Satellite Technology (SaTec)</td>\n",
       "      <td>Julius-Maximilians-Universität Würzburg</td>\n",
       "    </tr>\n",
       "  </tbody>\n",
       "</table>\n",
       "<p>642 rows × 4 columns</p>\n",
       "</div>"
      ],
      "text/plain": [
       "       id                                               tags  \\\n",
       "0    8305  In the Master's programme, the schedule can be...   \n",
       "1    8305  In the Master's programme, the schedule can be...   \n",
       "2    8305  In the Master's programme, the schedule can be...   \n",
       "3    4439  In the first semester, the module theoretical ...   \n",
       "4    4439  In the first semester, the module theoretical ...   \n",
       "..    ...                                                ...   \n",
       "637  9595  The MSc in Information Engineering programme c...   \n",
       "638  9595  The MSc in Information Engineering programme c...   \n",
       "639  3724  The first semester takes place at the Eberswal...   \n",
       "640  3724  The first semester takes place at the Eberswal...   \n",
       "641  6981  The programme reflects the three phases of spa...   \n",
       "\n",
       "                         CourseNameShort  \\\n",
       "0                       Computer Science   \n",
       "1                       Computer Science   \n",
       "2                       Computer Science   \n",
       "3                       Computer Science   \n",
       "4                       Computer Science   \n",
       "..                                   ...   \n",
       "637              Information Engineering   \n",
       "638              Information Engineering   \n",
       "639  Forest Information Technology (FIT)   \n",
       "640  Forest Information Technology (FIT)   \n",
       "641         Satellite Technology (SaTec)   \n",
       "\n",
       "                                               Academy  \n",
       "0                                University Of Potsdam  \n",
       "1                                University Of Potsdam  \n",
       "2                                University Of Potsdam  \n",
       "3                              University Of Stuttgart  \n",
       "4                              University Of Stuttgart  \n",
       "..                                                 ...  \n",
       "637                     Technical University Of Munich  \n",
       "638                     Technical University Of Munich  \n",
       "639  Eberswalde University For Sustainable Development  \n",
       "640  Eberswalde University For Sustainable Development  \n",
       "641            Julius-Maximilians-Universität Würzburg  \n",
       "\n",
       "[642 rows x 4 columns]"
      ]
     },
     "execution_count": 13,
     "metadata": {},
     "output_type": "execute_result"
    }
   ],
   "source": [
    "Basic_Df"
   ]
  },
  {
   "cell_type": "code",
   "execution_count": 14,
   "metadata": {},
   "outputs": [
    {
     "data": {
      "text/plain": [
       "500"
      ]
     },
     "execution_count": 14,
     "metadata": {},
     "output_type": "execute_result"
    }
   ],
   "source": [
    "Basic_Df.duplicated().sum()"
   ]
  },
  {
   "cell_type": "code",
   "execution_count": 15,
   "metadata": {},
   "outputs": [
    {
     "name": "stderr",
     "output_type": "stream",
     "text": [
      "C:\\Users\\gaura\\AppData\\Local\\Temp\\ipykernel_3840\\3448476547.py:1: SettingWithCopyWarning: \n",
      "A value is trying to be set on a copy of a slice from a DataFrame\n",
      "\n",
      "See the caveats in the documentation: https://pandas.pydata.org/pandas-docs/stable/user_guide/indexing.html#returning-a-view-versus-a-copy\n",
      "  Basic_Df.drop_duplicates(inplace=True)\n"
     ]
    }
   ],
   "source": [
    "Basic_Df.drop_duplicates(inplace=True)"
   ]
  },
  {
   "cell_type": "markdown",
   "metadata": {},
   "source": [
    "## NLTK "
   ]
  },
  {
   "cell_type": "markdown",
   "metadata": {},
   "source": [
    "!pip install nltk"
   ]
  },
  {
   "cell_type": "code",
   "execution_count": 16,
   "metadata": {},
   "outputs": [],
   "source": [
    "import nltk "
   ]
  },
  {
   "cell_type": "code",
   "execution_count": 17,
   "metadata": {},
   "outputs": [],
   "source": [
    "from nltk.stem.porter import PorterStemmer\n",
    "ps = PorterStemmer()"
   ]
  },
  {
   "cell_type": "code",
   "execution_count": 18,
   "metadata": {},
   "outputs": [],
   "source": [
    "def stem(text):\n",
    "    y = []\n",
    "\n",
    "    for i in text.split():\n",
    "        y.append(ps.stem(i))\n",
    "\n",
    "    return \" \".join(y)"
   ]
  },
  {
   "cell_type": "code",
   "execution_count": null,
   "metadata": {},
   "outputs": [
    {
     "name": "stderr",
     "output_type": "stream",
     "text": [
      "C:\\Users\\gaura\\AppData\\Local\\Temp\\ipykernel_3840\\259960460.py:1: SettingWithCopyWarning: \n",
      "A value is trying to be set on a copy of a slice from a DataFrame.\n",
      "Try using .loc[row_indexer,col_indexer] = value instead\n",
      "\n",
      "See the caveats in the documentation: https://pandas.pydata.org/pandas-docs/stable/user_guide/indexing.html#returning-a-view-versus-a-copy\n",
      "  Basic_Df['tags'] = Basic_Df['tags'].apply(stem)\n"
     ]
    }
   ],
   "source": [
    "Basic_Df['tags'] = Basic_Df['tags'].apply(stem)"
   ]
  },
  {
   "cell_type": "code",
   "execution_count": 21,
   "metadata": {},
   "outputs": [],
   "source": [
    "\n",
    "Basic_Df.reset_index(drop=True, inplace=True)\n"
   ]
  },
  {
   "cell_type": "markdown",
   "metadata": {},
   "source": [
    "# By Paragraph "
   ]
  },
  {
   "cell_type": "code",
   "execution_count": 44,
   "metadata": {},
   "outputs": [],
   "source": [
    "from sklearn.feature_extraction.text import TfidfVectorizer\n",
    "from sklearn.metrics.pairwise import cosine_similarity\n",
    "\n",
    "\n",
    "tfidf = TfidfVectorizer(max_features=5000, stop_words='english')\n",
    "vectors = tfidf.fit_transform(Basic_Df['tags']).toarray()\n",
    "\n",
    "def recommend_for_paragraph(paragraph):\n",
    "    paragraph_vector = tfidf.transform([paragraph]).toarray()\n",
    "    \n",
    "    similarity_scores = cosine_similarity(paragraph_vector, vectors).flatten()\n",
    "    \n",
    "    top_indices = sorted(list(enumerate(similarity_scores)), reverse=True, key=lambda x: x[1])[:10]\n",
    "    \n",
    "    print(f\"{'ID':<10} {'Course Name':<70} {'Academy':<40} {'Similarity (%)':<20}\")\n",
    "    print(\"-\" * 160)\n",
    "    \n",
    "    for i in top_indices:\n",
    "        course_id = Basic_Df.iloc[i[0]].id\n",
    "        course_name_short = Basic_Df.iloc[i[0]].CourseNameShort\n",
    "        academy = Basic_Df.iloc[i[0]].Academy\n",
    "        similarity_percentage = round(i[1] * 100, 2)  \n",
    "        \n",
    "        print(f\"{course_id:<10} {course_name_short:<70} {academy:<40} {similarity_percentage:<20.2f}\")\n"
   ]
  },
  {
   "cell_type": "code",
   "execution_count": 42,
   "metadata": {},
   "outputs": [],
   "source": [
    "\n",
    "# student_paragraph = \"\"\"\n",
    "# I am passionate about artificial intelligence, machine learning, and data analysis. \n",
    "# I have worked on several projects involving predictive modeling and computer vision. \n",
    "# I also have a keen interest in natural language processing and software development.\n",
    "# \"\"\"\n",
    "\n",
    "# # Web\n",
    "# student_paragraph = \"\"\"I have a strong interest in web engineering and have developed several projects involving full-stack web development. My expertise includes building scalable web applications using modern frameworks like React, Angular, and Node.js. I am proficient in designing and implementing RESTful APIs, database management with SQL and NoSQL technologies, and ensuring responsive, user-friendly designs. I have experience in deploying web applications using cloud platforms like AWS and Azure, and I am passionate about exploring web security, performance optimization, and progressive web apps (PWAs).\"\"\"\n",
    "\n",
    "# # data science\n",
    "# student_paragraph = \"\"\"I am passionate about data science and analytics, with hands-on experience in data preprocessing, statistical modeling, and predictive analytics. I have worked on projects involving machine learning algorithms like regression, classification, and clustering, using tools such as Python, R, and SQL. I have a strong understanding of data visualization techniques with libraries like Matplotlib and Tableau. Additionally, I am skilled in working with large datasets, data wrangling, and creating dashboards to derive actionable insights.\"\"\"\n",
    "\n",
    "# AI \n",
    "# student_paragraph = \"\"\"\"My interests lie in artificial intelligence and machine learning. I have developed several projects focusing on neural networks, deep learning, and reinforcement learning. I have experience using frameworks like TensorFlow and PyTorch for building and deploying models. My projects include image recognition, NLP-based sentiment analysis, and predictive modeling. I am also keen to explore the ethical and societal impacts of AI and its applications across industries.\"\"\"\n",
    "\n",
    "# # Game \n",
    "student_paragraph = \"\"\"I am highly enthusiastic about game development and have created several 2D and 3D games using Unity and Unreal Engine. My expertise includes programming gameplay mechanics, designing levels, and integrating animations. I have experience in languages like C# and C++, as well as working with game physics and AI for character behavior. I am particularly interested in exploring VR/AR technologies and their applications in gaming and beyond.\"\"\"\n",
    "\n",
    "# # Bioinformatik\n",
    "# student_paragraph = \"\"\"I have a keen interest in bioinformatics and its application in analyzing biological data. I have worked on projects involving genome sequence analysis, protein structure prediction, and phylogenetic tree construction. My skills include working with tools like BLAST, Biopython, and R for statistical analysis of biological datasets. I am passionate about exploring how computational approaches can drive advancements in genetics, drug discovery, and personalized medicine.\"\"\" \n",
    "\n",
    "# # Robotics\n",
    "# student_paragraph = \"\"\"My interest lies in robotics and automation, with hands-on experience in building autonomous robots using Arduino and Raspberry Pi. I have worked on projects involving robotic arm programming, obstacle detection using sensors, and line-following robots. I am proficient in control systems, kinematics, and programming languages like Python and C. I am excited about exploring applications of robotics in industries like healthcare, manufacturing, and space exploration\"\"\"\n",
    "\n",
    "# Blockchain \n",
    "# student_paragraph = \"\"\"\"I am fascinated by blockchain technology and its potential applications beyond cryptocurrency. I have experience in building decentralized applications (dApps) using Ethereum and smart contracts written in Solidity. My projects include creating secure voting systems and supply chain management platforms. I am also interested in exploring consensus algorithms, blockchain scalability, and integrating blockchain with emerging technologies like IoT and AI.\"\"\"\n",
    "\n",
    "# # # Cloud Computing\n",
    "# student_paragraph = \"\"\"\"My focus area is cloud computing, with experience in deploying and managing applications on cloud platforms like AWS, Google Cloud, and Azure. I have worked on designing scalable architectures, setting up virtual machines, and implementing serverless solutions. My knowledge includes storage solutions, load balancing, and containerization technologies like Docker and Kubernetes. I am particularly interested in exploring the intersection of cloud computing with AI and IoT.\"\"\"\n",
    "\n",
    "# # Cybersecurity \n",
    "# student_paragraph = \"\"\"\"I am highly interested in cybersecurity and its applications in protecting sensitive information and systems. I have worked on securing networks, implementing encryption algorithms, and identifying vulnerabilities in software applications. My skills include penetration testing, ethical hacking, and working with tools like Wireshark, Metasploit, and Kali Linux. I am also passionate about learning advanced topics like cryptography, intrusion detection, and cyber forensics.\"\"\"\n"
   ]
  },
  {
   "cell_type": "code",
   "execution_count": 43,
   "metadata": {},
   "outputs": [
    {
     "name": "stdout",
     "output_type": "stream",
     "text": [
      "ID         Course Name                                                            Academy                                  Similarity (%)       Top Words                                         \n",
      "------------------------------------------------------------------------------------------------------------------------------------------------------------------------------------------------------------------\n",
      "7711       Cybersecurity (MSc)                                                    Saarland University                      16.89                networks, cryptography, cybersecurity             \n",
      "6236       Applied Research In Computer Science (MSc)                             Hof University Of Applied Sciences       8.68                 systems, algorithms, cyber, like                  \n",
      "4775       Master'S In Industrial Informatics                                     University Of Applied Sciences Emden/Leer 7.28                 systems, like, information, cyber                 \n",
      "4591       Computer Science                                                       University Of Siegen                     7.24                 information, learning, detection, systems, like   \n",
      "9595       Information Engineering                                                Technical University Of Munich           6.87                 systems, information, cyber, like                 \n",
      "7618       Computer Science International                                         University Of Rostock                    6.61                 systems, software, cryptography, topics, algorithms\n",
      "4521       MSc In International Software Systems Science                          University Of Bamberg                    6.10                 skills, software, systems, advanced, networks     \n",
      "9077       Computer Science – Cyber Security Or Big Data & AI (MSc)               SRH Universities                         5.90                 systems, cyber                                    \n",
      "9691       Computer Science – Cyber Security Or Big Data & AI (MSc)               SRH Universities                         5.90                 systems, cyber                                    \n",
      "3686       Global Software Development (MSc)                                      Fulda University Of Applied Sciences     5.26                 skills, applications, software                    \n"
     ]
    }
   ],
   "source": [
    "recommend_for_paragraph(student_paragraph)"
   ]
  },
  {
   "cell_type": "markdown",
   "metadata": {},
   "source": [
    "# For Frontend \n"
   ]
  },
  {
   "cell_type": "code",
   "execution_count": null,
   "metadata": {},
   "outputs": [],
   "source": [
    "import pickle"
   ]
  },
  {
   "cell_type": "code",
   "execution_count": null,
   "metadata": {},
   "outputs": [],
   "source": [
    "pickle.dump(Basic_Df,open('../frontend/university_df.pkl','wb'))\n",
    "pickle.dump(similarity,open('../frontend/similarity.pkl','wb'))"
   ]
  },
  {
   "cell_type": "code",
   "execution_count": null,
   "metadata": {},
   "outputs": [],
   "source": [
    "pickle.dump(Basic_Df.to_dict() ,open('university_dict.pkl','wb'))\n"
   ]
  }
 ],
 "metadata": {
  "kernelspec": {
   "display_name": "AI_Project",
   "language": "python",
   "name": "python3"
  },
  "language_info": {
   "codemirror_mode": {
    "name": "ipython",
    "version": 3
   },
   "file_extension": ".py",
   "mimetype": "text/x-python",
   "name": "python",
   "nbconvert_exporter": "python",
   "pygments_lexer": "ipython3",
   "version": "3.9.20"
  }
 },
 "nbformat": 4,
 "nbformat_minor": 2
}
