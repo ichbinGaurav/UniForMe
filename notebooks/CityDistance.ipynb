{
 "cells": [
  {
   "cell_type": "code",
   "execution_count": 3,
   "id": "54290956-0d88-4bac-a4f4-ef3afa7c2c94",
   "metadata": {},
   "outputs": [],
   "source": [
    "import csv\n",
    "from geopy.geocoders import Nominatim\n",
    "from geopy.distance import geodesic"
   ]
  },
  {
   "cell_type": "code",
   "execution_count": 2,
   "id": "f123878a-1b9c-43f4-ac99-c95b0d1dc926",
   "metadata": {},
   "outputs": [
    {
     "name": "stdout",
     "output_type": "stream",
     "text": [
      "Collecting geopy\n",
      "  Downloading geopy-2.4.1-py3-none-any.whl.metadata (6.8 kB)\n",
      "Collecting geographiclib<3,>=1.52 (from geopy)\n",
      "  Downloading geographiclib-2.0-py3-none-any.whl.metadata (1.4 kB)\n",
      "Downloading geopy-2.4.1-py3-none-any.whl (125 kB)\n",
      "Downloading geographiclib-2.0-py3-none-any.whl (40 kB)\n",
      "Installing collected packages: geographiclib, geopy\n",
      "Successfully installed geographiclib-2.0 geopy-2.4.1\n"
     ]
    }
   ],
   "source": [
    "!pip install geopy"
   ]
  },
  {
   "cell_type": "code",
   "execution_count": 4,
   "id": "2c3f9a1b-bcd4-4852-b704-a25898e3afa7",
   "metadata": {},
   "outputs": [],
   "source": [
    "geolocator = Nominatim(user_agent=\"geoapi\")\n",
    "\n",
    "cities = [\n",
    "\"Potsdam\", \"Kiel\", \"Stuttgart\", \"Deggendorf\", \"Paderborn\", \"Passau\",\n",
    "\"Siegen\", \"Bonn\", \"Bingen am Rhein\", \"Regensburg\", \"Kaiserslautern\",\n",
    "\"Konstanz\", \"Weimar\", \"Köln\", \"Schmalkalden\", \"Hannover\",\n",
    "\"Freiburg im Breisgau\", \"Wuppertal\", \"Zwickau\", \"Bayreuth\", \"Freiberg\",\n",
    "\"Magdeburg\", \"Heidelberg\", \"Göttingen\", \"Saarbrücken\", \"Marburg\",\n",
    "\"Rostock\", \"Bochum\", \"Garching b. München\", \"Tübingen\", \"Kamp-Lintfort\",\n",
    "\"Braunschweig\", \"Würzburg\", \"Bremen\", \"Köthen / Anhalt\", \"Dresden\",\n",
    "\"Ilmenau\", \"Gütersloh\", \"Friedberg (Hessen)\", \"Erlangen\",\n",
    "\"Frankfurt am Main\", \"Aachen\", \"Berlin\", \"Chemnitz\", \"Trier\",\n",
    "\"Hamburg\", \"Hof\", \"Dortmund\", \"München\", \"Offenburg\", \"Fulda\",\n",
    "\"Gummersbach\", \"Jena\", \"Bamberg\", \"Koblenz\", \"Duisburg\", \"Münster\",\n",
    "\"Darmstadt\", \"Heilbronn\", \"Lüneburg\", \"Leipzig\", \"Soest\",\n",
    "\"Düsseldorf\", \"Augsburg\", \"Ulm\", \"Mönchengladbach\", \"Osnabrück\",\n",
    "\"Bielefeld\", \"Mannheim\", \"Aalen\", \"Furtwangen im Schwarzwald\",\n",
    "\"Emden\", \"Nürnberg\", \"Amberg\", \"Cottbus\", \"Karlsruhe\", \"Ingolstadt\",\n",
    "\"Bremerhaven\", \"Wolfenbüttel\", \"Bad Homburg vor der Höhe\",\n",
    "\"Hildesheim\", \"Dieburg\", \"Neu-Ulm\", \"Kronach\", \"Wedel (Holstein)\",\n",
    "\"Neubrandenburg\", \"Steinfurt\", \"Wismar\", \"Kulmbach\", \"Essen\",\n",
    "\"Rosenheim\", \"Jülich\", \"Mainz\", \"Coburg\", \"Lemgo\", \"Weingarten\",\n",
    "\"Singapore\", \"Halle (Saale)\", \"Gießen\", \"Birkenfeld\", \"Greifswald\",\n",
    "\"Landau in der Pfalz\", \"Lübeck\", \"Rheinbach\", \"Oldenburg\",\n",
    "\"Nürtingen\", \"Reutlingen\", \"Villingen-Schwenningen\", \"Riedlingen\",\n",
    "\"Kassel\", \"Idstein\", \"Sankt Augustin\", \"Pforzheim\", \"Cham\",\n",
    "\"Pfarrkirchen\", \"Schweinfurt\", \"Ansbach\", \"Remagen\", \"Gengenbach\",\n",
    "\"Kehl\", \"Esslingen am Neckar\", \"Frankfurt (Oder)\", \"Wildau\",\n",
    "\"Kleve\", \"Weidenbach\", \"Freising\", \"Eberswalde\", \"Leer (Ostfriesland)\",\n",
    "\"Witten\", \"Dessau-Roßlau\", \"Kempten (Allgäu)\", \"Worms\",\n",
    "\"Aschaffenburg\", \"Zweibrücken\", \"Stralsund\", \"Bernburg / Saale\",\n",
    "\"Pirmasens\", \"Feuchtwangen\", \"Wernigerode\", \"Elsfleth\", \"Traunstein\",\n",
    "\"Burghausen\", \"Wiesbaden\", \"Heide\", \"Detmold\", \"Höxter\", \"Erfurt\",\n",
    "\"Wolfsburg\", \"Möckern\", \"Geislingen an der Steige\", \"Eichstätt\",\n",
    "\"Witzenhausen\", \"Flensburg\", \"Weiden in der Oberpfalz\",\n",
    "\"Bergholz-Rehbrücke\", \"Görlitz\", \"Zittau\", \"Tharandt\",\n",
    "\"Neuburg an der Donau\"\n",
    "]\n",
    "\n"
   ]
  },
  {
   "cell_type": "code",
   "execution_count": 9,
   "id": "c2d30aa8-885f-4d42-9079-c042e3a11924",
   "metadata": {},
   "outputs": [
    {
     "name": "stdout",
     "output_type": "stream",
     "text": [
      "Nearby cities data saved to nearby_cities_with_distances_under_60.csv\n"
     ]
    }
   ],
   "source": [
    "def get_coordinates(city_name):\n",
    "    try:\n",
    "        location = geolocator.geocode(city_name)\n",
    "        if location:\n",
    "            return (location.latitude, location.longitude)\n",
    "    except Exception:\n",
    "        return None\n",
    "\n",
    "city_coordinates = {}\n",
    "for city in cities:\n",
    "    coords = get_coordinates(city)\n",
    "    if coords:\n",
    "        city_coordinates[city] = coords\n",
    "\n",
    "# Cities within 60km\n",
    "nearby_cities_results = []\n",
    "for city, coords in city_coordinates.items():\n",
    "    for other_city, other_coords in city_coordinates.items():\n",
    "        if city != other_city:\n",
    "            distance = geodesic(coords, other_coords).kilometers\n",
    "            if distance <= 60:\n",
    "                nearby_cities_results.append({\n",
    "                    \"City\": city,\n",
    "                    \"Nearby City\": other_city,\n",
    "                    \"Distance (km)\": round(distance, 2)\n",
    "                })\n",
    "\n",
    "# Results to CSV\n",
    "output_file = \"nearby_cities_with_distances_under_60.csv\"\n",
    "with open(output_file, mode=\"w\", encoding=\"utf-8\", newline=\"\") as file:\n",
    "    writer = csv.DictWriter(file, fieldnames=[\"City\", \"Nearby City\", \"Distance (km)\"])\n",
    "    writer.writeheader()\n",
    "    writer.writerows(nearby_cities_results)\n",
    "\n",
    "print(f\"Nearby cities data saved to {output_file}\")"
   ]
  },
  {
   "cell_type": "code",
   "execution_count": 15,
   "id": "51056655-b6bf-4cf7-a8f2-3287bd1a1e33",
   "metadata": {},
   "outputs": [],
   "source": [
    "import networkx as nx\n",
    "import pandas as pd"
   ]
  },
  {
   "cell_type": "code",
   "execution_count": 11,
   "id": "e918d3f8-05dc-4de0-a93f-d266bf06ca05",
   "metadata": {},
   "outputs": [
    {
     "name": "stdout",
     "output_type": "stream",
     "text": [
      "Collecting networkx\n",
      "  Downloading networkx-3.2.1-py3-none-any.whl.metadata (5.2 kB)\n",
      "Downloading networkx-3.2.1-py3-none-any.whl (1.6 MB)\n",
      "   ---------------------------------------- 0.0/1.6 MB ? eta -:--:--\n",
      "   ------ --------------------------------- 0.3/1.6 MB ? eta -:--:--\n",
      "   ------------------- -------------------- 0.8/1.6 MB 2.4 MB/s eta 0:00:01\n",
      "   ------------------------------- -------- 1.3/1.6 MB 2.1 MB/s eta 0:00:01\n",
      "   ---------------------------------------- 1.6/1.6 MB 2.1 MB/s eta 0:00:00\n",
      "Installing collected packages: networkx\n",
      "Successfully installed networkx-3.2.1\n"
     ]
    }
   ],
   "source": [
    "!pip install networkx"
   ]
  },
  {
   "cell_type": "code",
   "execution_count": 13,
   "id": "99d0d101-2438-4a23-9676-c3a696c960c3",
   "metadata": {},
   "outputs": [
    {
     "name": "stdout",
     "output_type": "stream",
     "text": [
      "Collecting pandas\n",
      "  Downloading pandas-2.2.3-cp39-cp39-win_amd64.whl.metadata (19 kB)\n",
      "Collecting numpy>=1.22.4 (from pandas)\n",
      "  Downloading numpy-2.0.2-cp39-cp39-win_amd64.whl.metadata (59 kB)\n",
      "Requirement already satisfied: python-dateutil>=2.8.2 in c:\\users\\gaura\\anaconda3\\envs\\ai_project\\lib\\site-packages (from pandas) (2.9.0.post0)\n",
      "Requirement already satisfied: pytz>=2020.1 in c:\\users\\gaura\\anaconda3\\envs\\ai_project\\lib\\site-packages (from pandas) (2024.1)\n",
      "Collecting tzdata>=2022.7 (from pandas)\n",
      "  Downloading tzdata-2024.2-py2.py3-none-any.whl.metadata (1.4 kB)\n",
      "Requirement already satisfied: six>=1.5 in c:\\users\\gaura\\anaconda3\\envs\\ai_project\\lib\\site-packages (from python-dateutil>=2.8.2->pandas) (1.16.0)\n",
      "Downloading pandas-2.2.3-cp39-cp39-win_amd64.whl (11.6 MB)\n",
      "   ---------------------------------------- 0.0/11.6 MB ? eta -:--:--\n",
      "    --------------------------------------- 0.3/11.6 MB ? eta -:--:--\n",
      "   -- ------------------------------------- 0.8/11.6 MB 2.2 MB/s eta 0:00:05\n",
      "   ---- ----------------------------------- 1.3/11.6 MB 2.3 MB/s eta 0:00:05\n",
      "   ------ --------------------------------- 1.8/11.6 MB 2.2 MB/s eta 0:00:05\n",
      "   ------- -------------------------------- 2.1/11.6 MB 2.1 MB/s eta 0:00:05\n",
      "   -------- ------------------------------- 2.4/11.6 MB 2.1 MB/s eta 0:00:05\n",
      "   --------- ------------------------------ 2.6/11.6 MB 1.8 MB/s eta 0:00:06\n",
      "   --------- ------------------------------ 2.9/11.6 MB 1.7 MB/s eta 0:00:06\n",
      "   --------- ------------------------------ 2.9/11.6 MB 1.7 MB/s eta 0:00:06\n",
      "   ---------- ----------------------------- 3.1/11.6 MB 1.6 MB/s eta 0:00:06\n",
      "   ------------ --------------------------- 3.7/11.6 MB 1.5 MB/s eta 0:00:06\n",
      "   ------------ --------------------------- 3.7/11.6 MB 1.5 MB/s eta 0:00:06\n",
      "   ------------- -------------------------- 3.9/11.6 MB 1.5 MB/s eta 0:00:06\n",
      "   --------------- ------------------------ 4.5/11.6 MB 1.5 MB/s eta 0:00:05\n",
      "   ---------------- ----------------------- 4.7/11.6 MB 1.5 MB/s eta 0:00:05\n",
      "   ----------------- ---------------------- 5.0/11.6 MB 1.5 MB/s eta 0:00:05\n",
      "   ------------------ --------------------- 5.2/11.6 MB 1.4 MB/s eta 0:00:05\n",
      "   ------------------ --------------------- 5.5/11.6 MB 1.4 MB/s eta 0:00:05\n",
      "   ------------------- -------------------- 5.8/11.6 MB 1.4 MB/s eta 0:00:05\n",
      "   -------------------- ------------------- 6.0/11.6 MB 1.4 MB/s eta 0:00:04\n",
      "   --------------------- ------------------ 6.3/11.6 MB 1.4 MB/s eta 0:00:04\n",
      "   ----------------------- ---------------- 6.8/11.6 MB 1.5 MB/s eta 0:00:04\n",
      "   ------------------------ --------------- 7.1/11.6 MB 1.5 MB/s eta 0:00:04\n",
      "   ------------------------- -------------- 7.3/11.6 MB 1.4 MB/s eta 0:00:03\n",
      "   -------------------------- ------------- 7.6/11.6 MB 1.4 MB/s eta 0:00:03\n",
      "   --------------------------- ------------ 7.9/11.6 MB 1.4 MB/s eta 0:00:03\n",
      "   --------------------------- ------------ 8.1/11.6 MB 1.4 MB/s eta 0:00:03\n",
      "   ---------------------------- ----------- 8.4/11.6 MB 1.4 MB/s eta 0:00:03\n",
      "   ----------------------------- ---------- 8.7/11.6 MB 1.4 MB/s eta 0:00:03\n",
      "   ------------------------------ --------- 8.9/11.6 MB 1.4 MB/s eta 0:00:02\n",
      "   ------------------------------- -------- 9.2/11.6 MB 1.4 MB/s eta 0:00:02\n",
      "   -------------------------------- ------- 9.4/11.6 MB 1.4 MB/s eta 0:00:02\n",
      "   --------------------------------- ------ 9.7/11.6 MB 1.4 MB/s eta 0:00:02\n",
      "   ----------------------------------- ---- 10.2/11.6 MB 1.4 MB/s eta 0:00:01\n",
      "   ------------------------------------ --- 10.5/11.6 MB 1.4 MB/s eta 0:00:01\n",
      "   ------------------------------------- -- 11.0/11.6 MB 1.5 MB/s eta 0:00:01\n",
      "   ---------------------------------------  11.5/11.6 MB 1.5 MB/s eta 0:00:01\n",
      "   ---------------------------------------- 11.6/11.6 MB 1.5 MB/s eta 0:00:00\n",
      "Downloading numpy-2.0.2-cp39-cp39-win_amd64.whl (15.9 MB)\n",
      "   ---------------------------------------- 0.0/15.9 MB ? eta -:--:--\n",
      "    --------------------------------------- 0.3/15.9 MB ? eta -:--:--\n",
      "   - -------------------------------------- 0.8/15.9 MB 2.2 MB/s eta 0:00:07\n",
      "   --- ------------------------------------ 1.3/15.9 MB 2.2 MB/s eta 0:00:07\n",
      "   --- ------------------------------------ 1.6/15.9 MB 2.2 MB/s eta 0:00:07\n",
      "   ----- ---------------------------------- 2.1/15.9 MB 2.2 MB/s eta 0:00:07\n",
      "   ------ --------------------------------- 2.6/15.9 MB 2.2 MB/s eta 0:00:06\n",
      "   ------- -------------------------------- 3.1/15.9 MB 2.2 MB/s eta 0:00:06\n",
      "   --------- ------------------------------ 3.7/15.9 MB 2.3 MB/s eta 0:00:06\n",
      "   ---------- ----------------------------- 4.2/15.9 MB 2.3 MB/s eta 0:00:06\n",
      "   ----------- ---------------------------- 4.7/15.9 MB 2.3 MB/s eta 0:00:05\n",
      "   ------------ --------------------------- 5.0/15.9 MB 2.3 MB/s eta 0:00:05\n",
      "   ------------- -------------------------- 5.5/15.9 MB 2.3 MB/s eta 0:00:05\n",
      "   --------------- ------------------------ 6.0/15.9 MB 2.3 MB/s eta 0:00:05\n",
      "   ---------------- ----------------------- 6.6/15.9 MB 2.3 MB/s eta 0:00:05\n",
      "   ----------------- ---------------------- 6.8/15.9 MB 2.3 MB/s eta 0:00:04\n",
      "   ------------------ --------------------- 7.3/15.9 MB 2.2 MB/s eta 0:00:04\n",
      "   ------------------- -------------------- 7.6/15.9 MB 2.2 MB/s eta 0:00:04\n",
      "   -------------------- ------------------- 8.1/15.9 MB 2.2 MB/s eta 0:00:04\n",
      "   --------------------- ------------------ 8.7/15.9 MB 2.2 MB/s eta 0:00:04\n",
      "   ----------------------- ---------------- 9.2/15.9 MB 2.2 MB/s eta 0:00:04\n",
      "   ----------------------- ---------------- 9.4/15.9 MB 2.2 MB/s eta 0:00:03\n",
      "   ------------------------- -------------- 10.2/15.9 MB 2.2 MB/s eta 0:00:03\n",
      "   --------------------------- ------------ 10.7/15.9 MB 2.3 MB/s eta 0:00:03\n",
      "   ---------------------------- ----------- 11.3/15.9 MB 2.3 MB/s eta 0:00:03\n",
      "   ------------------------------ --------- 12.1/15.9 MB 2.3 MB/s eta 0:00:02\n",
      "   ------------------------------ --------- 12.3/15.9 MB 2.3 MB/s eta 0:00:02\n",
      "   -------------------------------- ------- 13.1/15.9 MB 2.3 MB/s eta 0:00:02\n",
      "   ---------------------------------- ----- 13.6/15.9 MB 2.3 MB/s eta 0:00:01\n",
      "   ----------------------------------- ---- 14.2/15.9 MB 2.4 MB/s eta 0:00:01\n",
      "   ------------------------------------- -- 14.9/15.9 MB 2.4 MB/s eta 0:00:01\n",
      "   ---------------------------------------  15.7/15.9 MB 2.4 MB/s eta 0:00:01\n",
      "   ---------------------------------------- 15.9/15.9 MB 2.4 MB/s eta 0:00:00\n",
      "Downloading tzdata-2024.2-py2.py3-none-any.whl (346 kB)\n",
      "Installing collected packages: tzdata, numpy, pandas\n",
      "Successfully installed numpy-2.0.2 pandas-2.2.3 tzdata-2024.2\n"
     ]
    }
   ],
   "source": [
    "!pip install pandas"
   ]
  }
 ],
 "metadata": {
  "kernelspec": {
   "display_name": "Python 3",
   "language": "python",
   "name": "python3"
  },
  "language_info": {
   "codemirror_mode": {
    "name": "ipython",
    "version": 3
   },
   "file_extension": ".py",
   "mimetype": "text/x-python",
   "name": "python",
   "nbconvert_exporter": "python",
   "pygments_lexer": "ipython3",
   "version": "3.11.9"
  }
 },
 "nbformat": 4,
 "nbformat_minor": 5
}
