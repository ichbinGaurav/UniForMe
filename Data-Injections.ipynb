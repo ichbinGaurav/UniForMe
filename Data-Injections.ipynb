{
 "cells": [
  {
   "cell_type": "markdown",
   "metadata": {},
   "source": [
    "Install Monogo DB : https://www.mongodb.com/try/download/community-kubernetes-operator\n",
    "\n",
    "Create Connection : localhost"
   ]
  },
  {
   "cell_type": "code",
   "execution_count": null,
   "metadata": {},
   "outputs": [],
   "source": [
    "pip install pymongo requests"
   ]
  },
  {
   "cell_type": "code",
   "execution_count": 4,
   "metadata": {},
   "outputs": [],
   "source": [
    "import requests\n",
    "from pymongo import MongoClient"
   ]
  },
  {
   "cell_type": "code",
   "execution_count": 5,
   "metadata": {},
   "outputs": [],
   "source": [
    "MONGO_URI = \"mongodb://localhost:27017\"  # Update if using MongoDB Atlas or other URI\n",
    "DATABASE_NAME = \"UniForMe\"\n",
    "COLLECTION_NAME = \"daad_all_uni\""
   ]
  },
  {
   "cell_type": "code",
   "execution_count": 6,
   "metadata": {},
   "outputs": [],
   "source": [
    "API_URL = \"https://www2.daad.de/deutschland/studienangebote/international-programmes/api/solr/en/search.json\"\n",
    "PARAMS = {\n",
    "    \"cert\": \"\",\n",
    "    \"admReq\": \"\",\n",
    "    \"langExamPC\": \"\",\n",
    "    \"scholarshipLC\": \"\",\n",
    "    \"langExamLC\": \"\",\n",
    "    \"scholarshipSC\": \"\",\n",
    "    \"langExamSC\": \"\",\n",
    "    \"fos\": \"\",\n",
    "    \"langDeAvailable\": \"\",\n",
    "    \"langEnAvailable\": \"\",\n",
    "    \"fee\": \"\",\n",
    "    \"sort\": 4,\n",
    "    \"dur\": \"\",\n",
    "    \"q\": \"\",\n",
    "    \"limit\": 100,\n",
    "    \"offset\": \"\",\n",
    "    \"display\": \"list\",\n",
    "    \"isElearning\": \"\",\n",
    "    \"isSep\": \"\"\n",
    "}"
   ]
  },
  {
   "cell_type": "code",
   "execution_count": 7,
   "metadata": {},
   "outputs": [],
   "source": [
    "def fetch_data_from_api():\n",
    "    \"\"\"Fetch data from the public API.\"\"\"\n",
    "    try:\n",
    "        response = requests.get(API_URL, params=PARAMS)\n",
    "        response.raise_for_status()\n",
    "        return response.json()\n",
    "    except requests.RequestException as e:\n",
    "        print(f\"Error fetching data from API: {e}\")\n",
    "        return None"
   ]
  },
  {
   "cell_type": "code",
   "execution_count": 8,
   "metadata": {},
   "outputs": [],
   "source": [
    "def insert_data_into_mongo(data):\n",
    "    \"\"\"Insert data into MongoDB.\"\"\"\n",
    "    try:\n",
    "        # Connect to MongoDB\n",
    "        client = MongoClient(MONGO_URI)\n",
    "        db = client[DATABASE_NAME]\n",
    "        collection = db[COLLECTION_NAME]\n",
    "        \n",
    "        # Insert data into the collection\n",
    "        if isinstance(data, list):\n",
    "            collection.insert_many(data)\n",
    "        elif isinstance(data, dict):\n",
    "            collection.insert_one(data)\n",
    "        print(\"Data inserted successfully into MongoDB.\")\n",
    "    except Exception as e:\n",
    "        print(f\"Error inserting data into MongoDB: {e}\")\n",
    "    finally:\n",
    "        client.close()"
   ]
  },
  {
   "cell_type": "code",
   "execution_count": 17,
   "metadata": {},
   "outputs": [],
   "source": [
    "def main():\n",
    "    \"\"\"Main function to fetch and store data.\"\"\"\n",
    "    print(\"Fetching data from API...\")\n",
    "    api_data = fetch_data_from_api()\n",
    "\n",
    "    if api_data and \"courses\" in api_data:\n",
    "            courses = api_data[\"courses\"]\n",
    "            print(f\"Fetched {len(courses)} courses from the API.\")\n",
    "            print(\"Inserting data into MongoDB...\")\n",
    "            insert_data_into_mongo(courses)\n",
    "    else:\n",
    "        print(\"No courses found or invalid response format.\")"
   ]
  },
  {
   "cell_type": "code",
   "execution_count": 18,
   "metadata": {},
   "outputs": [
    {
     "name": "stdout",
     "output_type": "stream",
     "text": [
      "Fetching data from API...\n",
      "Fetched 100 courses from the API.\n",
      "Inserting data into MongoDB...\n",
      "Data inserted successfully into MongoDB.\n"
     ]
    }
   ],
   "source": [
    "if __name__ == \"__main__\":\n",
    "    main()"
   ]
  },
  {
   "cell_type": "code",
   "execution_count": null,
   "metadata": {},
   "outputs": [],
   "source": []
  }
 ],
 "metadata": {
  "kernelspec": {
   "display_name": "Python 3",
   "language": "python",
   "name": "python3"
  },
  "language_info": {
   "codemirror_mode": {
    "name": "ipython",
    "version": 3
   },
   "file_extension": ".py",
   "mimetype": "text/x-python",
   "name": "python",
   "nbconvert_exporter": "python",
   "pygments_lexer": "ipython3",
   "version": "3.11.9"
  }
 },
 "nbformat": 4,
 "nbformat_minor": 2
}
